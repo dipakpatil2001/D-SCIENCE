{
  "nbformat": 4,
  "nbformat_minor": 0,
  "metadata": {
    "colab": {
      "provenance": [],
      "include_colab_link": true
    },
    "kernelspec": {
      "name": "python3",
      "display_name": "Python 3"
    },
    "language_info": {
      "name": "python"
    },
    "accelerator": "GPU",
    "gpuClass": "standard"
  },
  "cells": [
    {
      "cell_type": "markdown",
      "metadata": {
        "id": "view-in-github",
        "colab_type": "text"
      },
      "source": [
        "<a href=\"https://colab.research.google.com/github/dipakpatil2001/D-SCIENCE/blob/main/playst_EDA_Submission_13022023.ipynb\" target=\"_parent\"><img src=\"https://colab.research.google.com/assets/colab-badge.svg\" alt=\"Open In Colab\"/></a>"
      ]
    },
    {
      "cell_type": "markdown",
      "source": [
        "# **Project Name**    - \n",
        "\n"
      ],
      "metadata": {
        "id": "vncDsAP0Gaoa"
      }
    },
    {
      "cell_type": "markdown",
      "source": [
        "##**Project Name -Playstore App Review Analysis**\n",
        "##### **Project Type**    - EDA\n",
        "##### **Contribution**    - Individual/Team\n",
        "##### **Team Member 1 -** Dipak Balram Patil\n",
        "\n",
        "\n",
        "\n",
        "\n",
        "\n",
        "\n",
        "\n",
        "\n",
        "\n"
      ],
      "metadata": {
        "id": "beRrZCGUAJYm"
      }
    },
    {
      "cell_type": "markdown",
      "source": [
        "# **Project Summary -**"
      ],
      "metadata": {
        "id": "FJNUwmbgGyua"
      }
    },
    {
      "cell_type": "markdown",
      "source": [
        "In this project we are going to perform Exploratory Data Analysis on Playstore App dataset.\n",
        "The dataset consists of 2 tables. The first table called ‘googleplaystore.csv’ consists of 13 columns ( app, category, rating, reviews, size, installs, type, price, content rating, genres).\n",
        "\n",
        "Second table called ‘googleplaystore_user_reviews.csv’ consists of 5 columns (app, translated review, sentiment, sentiment polarity, sentiment subjectivity).\n",
        "\n",
        "Steps involved in this analysis are as follows:\n",
        "\n",
        "* Import the data\n",
        "*Check the data\n",
        "*Cleaning the data\n",
        "*Analyzing the data\n",
        "*Visualizing the data\n",
        "*Conclusion"
      ],
      "metadata": {
        "id": "F6v_1wHtG2nS"
      }
    },
    {
      "cell_type": "markdown",
      "source": [
        "# **GitHub Link -**"
      ],
      "metadata": {
        "id": "w6K7xa23Elo4"
      }
    },
    {
      "cell_type": "markdown",
      "source": [
        "Click on it: [link text](https://https://github.com/dipakpatil2001/D-SCIENCE/blob/main/playst_EDA_Submission_13022023.ipynb)"
      ],
      "metadata": {
        "id": "h1o69JH3Eqqn"
      }
    },
    {
      "cell_type": "markdown",
      "source": [
        "# **Problem Statement**\n"
      ],
      "metadata": {
        "id": "yQaldy8SH6Dl"
      }
    },
    {
      "cell_type": "markdown",
      "source": [
        "\n",
        "The Play Store apps data has enormous potential to drive app-making businesses to success. Actionable insights can be drawn for developers to work on and capture the Android market. Each app (row) has values for catergory, rating, size, and more.Another dataset contains customer reviews of the android apps. Explore and analyze the data to discover key factors responsible for app engagement and success.\n"
      ],
      "metadata": {
        "id": "DpeJGUA3kjGy"
      }
    },
    {
      "cell_type": "markdown",
      "source": [
        "#### **Define Your Business Objective?**"
      ],
      "metadata": {
        "id": "PH-0ReGfmX4f"
      }
    },
    {
      "cell_type": "markdown",
      "source": [
        "\n",
        "-Android is being adopted by a large population across the globe. Android is used in over 74% of the world market, so it's worth creating or developing apps for this mobile operating system.\n",
        "\n",
        "-It's also worth investing in apps if you expect them to gain wider traction in the future. To make sure apps are tailored to the needs of users the analysis of data from the Google Play Store apps is extremely valuable.\n",
        "\n",
        "-It can help developers design apps that are tailored to what users want and investors with decisions about how best to invest in future.\n",
        "\n",
        "Let's having fun and learn on Data!\n"
      ],
      "metadata": {
        "id": "PhDvGCAqmjP1"
      }
    },
    {
      "cell_type": "markdown",
      "source": [
        "# **General Guidelines** : -  "
      ],
      "metadata": {
        "id": "mDgbUHAGgjLW"
      }
    },
    {
      "cell_type": "markdown",
      "source": [
        "1.   Well-structured, formatted, and commented code is required. \n",
        "2.   Exception Handling, Production Grade Code & Deployment Ready Code will be a plus. Those students will be awarded some additional credits. \n",
        "     \n",
        "     The additional credits will have advantages over other students during Star Student selection.\n",
        "       \n",
        "             [ Note: - Deployment Ready Code is defined as, the whole .ipynb notebook should be executable in one go\n",
        "                       without a single error logged. ]\n",
        "\n",
        "3.   Each and every logic should have proper comments.\n",
        "4. You may add as many number of charts you want. Make Sure for each and every chart the following format should be answered.\n",
        "        \n",
        "\n",
        "```\n",
        "# Chart visualization code\n",
        "```\n",
        "            \n",
        "\n",
        "*   Why did you pick the specific chart?\n",
        "*   What is/are the insight(s) found from the chart?\n",
        "* Will the gained insights help creating a positive business impact? \n",
        "Are there any insights that lead to negative growth? Justify with specific reason.\n",
        "\n",
        "5. You have to create at least 20 logical & meaningful charts having important insights.\n",
        "\n",
        "\n",
        "[ Hints : - Do the Vizualization in  a structured way while following \"UBM\" Rule. \n",
        "\n",
        "U - Univariate Analysis,\n",
        "\n",
        "B - Bivariate Analysis (Numerical - Categorical, Numerical - Numerical, Categorical - Categorical)\n",
        "\n",
        "M - Multivariate Analysis\n",
        " ]\n",
        "\n",
        "\n",
        "\n"
      ],
      "metadata": {
        "id": "ZrxVaUj-hHfC"
      }
    },
    {
      "cell_type": "markdown",
      "source": [
        "# ***Let's Begin !***"
      ],
      "metadata": {
        "id": "O_i_v8NEhb9l"
      }
    },
    {
      "cell_type": "markdown",
      "source": [
        "## ***1. Know Your Data***"
      ],
      "metadata": {
        "id": "HhfV-JJviCcP"
      }
    },
    {
      "cell_type": "markdown",
      "source": [
        "### Import Libraries"
      ],
      "metadata": {
        "id": "Y3lxredqlCYt"
      }
    },
    {
      "cell_type": "code",
      "source": [
        "import numpy as np\n",
        "import pandas as pd\n",
        "import matplotlib.pyplot as plt\n",
        "import seaborn as sns"
      ],
      "metadata": {
        "id": "M8Vqi-pPk-HR"
      },
      "execution_count": 2,
      "outputs": []
    },
    {
      "cell_type": "markdown",
      "source": [
        "### Dataset Loading"
      ],
      "metadata": {
        "id": "3RnN4peoiCZX"
      }
    },
    {
      "cell_type": "code",
      "source": [
        "from google.colab import drive\n",
        "drive.mount('/content/drive')"
      ],
      "metadata": {
        "id": "JCq-58Fp65sW",
        "colab": {
          "base_uri": "https://localhost:8080/"
        },
        "outputId": "bfdcbf98-6e7b-4e26-a472-eada40a730cc"
      },
      "execution_count": 3,
      "outputs": [
        {
          "output_type": "stream",
          "name": "stdout",
          "text": [
            "Mounted at /content/drive\n"
          ]
        }
      ]
    },
    {
      "cell_type": "code",
      "source": [
        "# Load Dataset\n",
        "df1= pd.read_csv(\"/content/drive/MyDrive/Colab Notebooks/Play Store Data (1).csv\")     #pd.read_cvs() to read the data from csv file\n",
        "df2= pd.read_csv(\"/content/drive/MyDrive/Colab Notebooks/User Reviews.csv\")"
      ],
      "metadata": {
        "id": "4CkvbW_SlZ_R"
      },
      "execution_count": 4,
      "outputs": []
    },
    {
      "cell_type": "code",
      "source": [
        "a = np.intersect1d(df2.columns, df1.columns)    #getting for common column in both data sets using Numpy intersect1d method\n",
        "a"
      ],
      "metadata": {
        "id": "WFMncpLBkX_7",
        "colab": {
          "base_uri": "https://localhost:8080/"
        },
        "outputId": "b7d0d3a2-43ff-4012-a57e-9024478245c4"
      },
      "execution_count": 5,
      "outputs": [
        {
          "output_type": "execute_result",
          "data": {
            "text/plain": [
              "array(['App'], dtype=object)"
            ]
          },
          "metadata": {},
          "execution_count": 5
        }
      ]
    },
    {
      "cell_type": "code",
      "source": [
        "#column \"App\" is same for both dataset so we will merge both datasets using that colunm using outer join\n",
        "df3=pd.merge(df1,df2,how='outer', on= 'App') "
      ],
      "metadata": {
        "id": "G45RMXM8kYDa"
      },
      "execution_count": 6,
      "outputs": []
    },
    {
      "cell_type": "markdown",
      "source": [
        "### Dataset First View"
      ],
      "metadata": {
        "id": "x71ZqKXriCWQ"
      }
    },
    {
      "cell_type": "markdown",
      "source": [
        "After loading dataset we are going to check if data is ready for exploration operations"
      ],
      "metadata": {
        "id": "9SLJWlOMBbis"
      }
    },
    {
      "cell_type": "code",
      "source": [
        "# Dataset First Look\n",
        "df3.head()                #top 5 rows"
      ],
      "metadata": {
        "id": "LWNFOSvLl09H",
        "colab": {
          "base_uri": "https://localhost:8080/",
          "height": 513
        },
        "outputId": "1e478778-d9db-4bfd-bb16-bd796d8516ac"
      },
      "execution_count": 7,
      "outputs": [
        {
          "output_type": "execute_result",
          "data": {
            "text/plain": [
              "                                              App        Category  Rating  \\\n",
              "0  Photo Editor & Candy Camera & Grid & ScrapBook  ART_AND_DESIGN     4.1   \n",
              "1                             Coloring book moana  ART_AND_DESIGN     3.9   \n",
              "2                             Coloring book moana  ART_AND_DESIGN     3.9   \n",
              "3                             Coloring book moana  ART_AND_DESIGN     3.9   \n",
              "4                             Coloring book moana  ART_AND_DESIGN     3.9   \n",
              "\n",
              "  Reviews Size  Installs  Type Price Content Rating  \\\n",
              "0     159  19M   10,000+  Free     0       Everyone   \n",
              "1     967  14M  500,000+  Free     0       Everyone   \n",
              "2     967  14M  500,000+  Free     0       Everyone   \n",
              "3     967  14M  500,000+  Free     0       Everyone   \n",
              "4     967  14M  500,000+  Free     0       Everyone   \n",
              "\n",
              "                      Genres      Last Updated Current Ver   Android Ver  \\\n",
              "0               Art & Design   January 7, 2018       1.0.0  4.0.3 and up   \n",
              "1  Art & Design;Pretend Play  January 15, 2018       2.0.0  4.0.3 and up   \n",
              "2  Art & Design;Pretend Play  January 15, 2018       2.0.0  4.0.3 and up   \n",
              "3  Art & Design;Pretend Play  January 15, 2018       2.0.0  4.0.3 and up   \n",
              "4  Art & Design;Pretend Play  January 15, 2018       2.0.0  4.0.3 and up   \n",
              "\n",
              "                                   Translated_Review Sentiment  \\\n",
              "0                                                NaN       NaN   \n",
              "1  A kid's excessive ads. The types ads allowed a...  Negative   \n",
              "2                                         It bad >:(  Negative   \n",
              "3                                               like   Neutral   \n",
              "4                                                NaN       NaN   \n",
              "\n",
              "   Sentiment_Polarity  Sentiment_Subjectivity  \n",
              "0                 NaN                     NaN  \n",
              "1              -0.250                1.000000  \n",
              "2              -0.725                0.833333  \n",
              "3               0.000                0.000000  \n",
              "4                 NaN                     NaN  "
            ],
            "text/html": [
              "\n",
              "  <div id=\"df-025974d2-303c-4e59-88d4-3a68d586f88a\">\n",
              "    <div class=\"colab-df-container\">\n",
              "      <div>\n",
              "<style scoped>\n",
              "    .dataframe tbody tr th:only-of-type {\n",
              "        vertical-align: middle;\n",
              "    }\n",
              "\n",
              "    .dataframe tbody tr th {\n",
              "        vertical-align: top;\n",
              "    }\n",
              "\n",
              "    .dataframe thead th {\n",
              "        text-align: right;\n",
              "    }\n",
              "</style>\n",
              "<table border=\"1\" class=\"dataframe\">\n",
              "  <thead>\n",
              "    <tr style=\"text-align: right;\">\n",
              "      <th></th>\n",
              "      <th>App</th>\n",
              "      <th>Category</th>\n",
              "      <th>Rating</th>\n",
              "      <th>Reviews</th>\n",
              "      <th>Size</th>\n",
              "      <th>Installs</th>\n",
              "      <th>Type</th>\n",
              "      <th>Price</th>\n",
              "      <th>Content Rating</th>\n",
              "      <th>Genres</th>\n",
              "      <th>Last Updated</th>\n",
              "      <th>Current Ver</th>\n",
              "      <th>Android Ver</th>\n",
              "      <th>Translated_Review</th>\n",
              "      <th>Sentiment</th>\n",
              "      <th>Sentiment_Polarity</th>\n",
              "      <th>Sentiment_Subjectivity</th>\n",
              "    </tr>\n",
              "  </thead>\n",
              "  <tbody>\n",
              "    <tr>\n",
              "      <th>0</th>\n",
              "      <td>Photo Editor &amp; Candy Camera &amp; Grid &amp; ScrapBook</td>\n",
              "      <td>ART_AND_DESIGN</td>\n",
              "      <td>4.1</td>\n",
              "      <td>159</td>\n",
              "      <td>19M</td>\n",
              "      <td>10,000+</td>\n",
              "      <td>Free</td>\n",
              "      <td>0</td>\n",
              "      <td>Everyone</td>\n",
              "      <td>Art &amp; Design</td>\n",
              "      <td>January 7, 2018</td>\n",
              "      <td>1.0.0</td>\n",
              "      <td>4.0.3 and up</td>\n",
              "      <td>NaN</td>\n",
              "      <td>NaN</td>\n",
              "      <td>NaN</td>\n",
              "      <td>NaN</td>\n",
              "    </tr>\n",
              "    <tr>\n",
              "      <th>1</th>\n",
              "      <td>Coloring book moana</td>\n",
              "      <td>ART_AND_DESIGN</td>\n",
              "      <td>3.9</td>\n",
              "      <td>967</td>\n",
              "      <td>14M</td>\n",
              "      <td>500,000+</td>\n",
              "      <td>Free</td>\n",
              "      <td>0</td>\n",
              "      <td>Everyone</td>\n",
              "      <td>Art &amp; Design;Pretend Play</td>\n",
              "      <td>January 15, 2018</td>\n",
              "      <td>2.0.0</td>\n",
              "      <td>4.0.3 and up</td>\n",
              "      <td>A kid's excessive ads. The types ads allowed a...</td>\n",
              "      <td>Negative</td>\n",
              "      <td>-0.250</td>\n",
              "      <td>1.000000</td>\n",
              "    </tr>\n",
              "    <tr>\n",
              "      <th>2</th>\n",
              "      <td>Coloring book moana</td>\n",
              "      <td>ART_AND_DESIGN</td>\n",
              "      <td>3.9</td>\n",
              "      <td>967</td>\n",
              "      <td>14M</td>\n",
              "      <td>500,000+</td>\n",
              "      <td>Free</td>\n",
              "      <td>0</td>\n",
              "      <td>Everyone</td>\n",
              "      <td>Art &amp; Design;Pretend Play</td>\n",
              "      <td>January 15, 2018</td>\n",
              "      <td>2.0.0</td>\n",
              "      <td>4.0.3 and up</td>\n",
              "      <td>It bad &gt;:(</td>\n",
              "      <td>Negative</td>\n",
              "      <td>-0.725</td>\n",
              "      <td>0.833333</td>\n",
              "    </tr>\n",
              "    <tr>\n",
              "      <th>3</th>\n",
              "      <td>Coloring book moana</td>\n",
              "      <td>ART_AND_DESIGN</td>\n",
              "      <td>3.9</td>\n",
              "      <td>967</td>\n",
              "      <td>14M</td>\n",
              "      <td>500,000+</td>\n",
              "      <td>Free</td>\n",
              "      <td>0</td>\n",
              "      <td>Everyone</td>\n",
              "      <td>Art &amp; Design;Pretend Play</td>\n",
              "      <td>January 15, 2018</td>\n",
              "      <td>2.0.0</td>\n",
              "      <td>4.0.3 and up</td>\n",
              "      <td>like</td>\n",
              "      <td>Neutral</td>\n",
              "      <td>0.000</td>\n",
              "      <td>0.000000</td>\n",
              "    </tr>\n",
              "    <tr>\n",
              "      <th>4</th>\n",
              "      <td>Coloring book moana</td>\n",
              "      <td>ART_AND_DESIGN</td>\n",
              "      <td>3.9</td>\n",
              "      <td>967</td>\n",
              "      <td>14M</td>\n",
              "      <td>500,000+</td>\n",
              "      <td>Free</td>\n",
              "      <td>0</td>\n",
              "      <td>Everyone</td>\n",
              "      <td>Art &amp; Design;Pretend Play</td>\n",
              "      <td>January 15, 2018</td>\n",
              "      <td>2.0.0</td>\n",
              "      <td>4.0.3 and up</td>\n",
              "      <td>NaN</td>\n",
              "      <td>NaN</td>\n",
              "      <td>NaN</td>\n",
              "      <td>NaN</td>\n",
              "    </tr>\n",
              "  </tbody>\n",
              "</table>\n",
              "</div>\n",
              "      <button class=\"colab-df-convert\" onclick=\"convertToInteractive('df-025974d2-303c-4e59-88d4-3a68d586f88a')\"\n",
              "              title=\"Convert this dataframe to an interactive table.\"\n",
              "              style=\"display:none;\">\n",
              "        \n",
              "  <svg xmlns=\"http://www.w3.org/2000/svg\" height=\"24px\"viewBox=\"0 0 24 24\"\n",
              "       width=\"24px\">\n",
              "    <path d=\"M0 0h24v24H0V0z\" fill=\"none\"/>\n",
              "    <path d=\"M18.56 5.44l.94 2.06.94-2.06 2.06-.94-2.06-.94-.94-2.06-.94 2.06-2.06.94zm-11 1L8.5 8.5l.94-2.06 2.06-.94-2.06-.94L8.5 2.5l-.94 2.06-2.06.94zm10 10l.94 2.06.94-2.06 2.06-.94-2.06-.94-.94-2.06-.94 2.06-2.06.94z\"/><path d=\"M17.41 7.96l-1.37-1.37c-.4-.4-.92-.59-1.43-.59-.52 0-1.04.2-1.43.59L10.3 9.45l-7.72 7.72c-.78.78-.78 2.05 0 2.83L4 21.41c.39.39.9.59 1.41.59.51 0 1.02-.2 1.41-.59l7.78-7.78 2.81-2.81c.8-.78.8-2.07 0-2.86zM5.41 20L4 18.59l7.72-7.72 1.47 1.35L5.41 20z\"/>\n",
              "  </svg>\n",
              "      </button>\n",
              "      \n",
              "  <style>\n",
              "    .colab-df-container {\n",
              "      display:flex;\n",
              "      flex-wrap:wrap;\n",
              "      gap: 12px;\n",
              "    }\n",
              "\n",
              "    .colab-df-convert {\n",
              "      background-color: #E8F0FE;\n",
              "      border: none;\n",
              "      border-radius: 50%;\n",
              "      cursor: pointer;\n",
              "      display: none;\n",
              "      fill: #1967D2;\n",
              "      height: 32px;\n",
              "      padding: 0 0 0 0;\n",
              "      width: 32px;\n",
              "    }\n",
              "\n",
              "    .colab-df-convert:hover {\n",
              "      background-color: #E2EBFA;\n",
              "      box-shadow: 0px 1px 2px rgba(60, 64, 67, 0.3), 0px 1px 3px 1px rgba(60, 64, 67, 0.15);\n",
              "      fill: #174EA6;\n",
              "    }\n",
              "\n",
              "    [theme=dark] .colab-df-convert {\n",
              "      background-color: #3B4455;\n",
              "      fill: #D2E3FC;\n",
              "    }\n",
              "\n",
              "    [theme=dark] .colab-df-convert:hover {\n",
              "      background-color: #434B5C;\n",
              "      box-shadow: 0px 1px 3px 1px rgba(0, 0, 0, 0.15);\n",
              "      filter: drop-shadow(0px 1px 2px rgba(0, 0, 0, 0.3));\n",
              "      fill: #FFFFFF;\n",
              "    }\n",
              "  </style>\n",
              "\n",
              "      <script>\n",
              "        const buttonEl =\n",
              "          document.querySelector('#df-025974d2-303c-4e59-88d4-3a68d586f88a button.colab-df-convert');\n",
              "        buttonEl.style.display =\n",
              "          google.colab.kernel.accessAllowed ? 'block' : 'none';\n",
              "\n",
              "        async function convertToInteractive(key) {\n",
              "          const element = document.querySelector('#df-025974d2-303c-4e59-88d4-3a68d586f88a');\n",
              "          const dataTable =\n",
              "            await google.colab.kernel.invokeFunction('convertToInteractive',\n",
              "                                                     [key], {});\n",
              "          if (!dataTable) return;\n",
              "\n",
              "          const docLinkHtml = 'Like what you see? Visit the ' +\n",
              "            '<a target=\"_blank\" href=https://colab.research.google.com/notebooks/data_table.ipynb>data table notebook</a>'\n",
              "            + ' to learn more about interactive tables.';\n",
              "          element.innerHTML = '';\n",
              "          dataTable['output_type'] = 'display_data';\n",
              "          await google.colab.output.renderOutput(dataTable, element);\n",
              "          const docLink = document.createElement('div');\n",
              "          docLink.innerHTML = docLinkHtml;\n",
              "          element.appendChild(docLink);\n",
              "        }\n",
              "      </script>\n",
              "    </div>\n",
              "  </div>\n",
              "  "
            ]
          },
          "metadata": {},
          "execution_count": 7
        }
      ]
    },
    {
      "cell_type": "code",
      "source": [
        "df3.tail()    #bottom 5 rows"
      ],
      "metadata": {
        "id": "eIgKN17oCI0s",
        "colab": {
          "base_uri": "https://localhost:8080/",
          "height": 721
        },
        "outputId": "e9b718ff-c5d2-4c78-9a28-4864d982b76e"
      },
      "execution_count": 8,
      "outputs": [
        {
          "output_type": "execute_result",
          "data": {
            "text/plain": [
              "                                   App Category  Rating Reviews Size Installs  \\\n",
              "134705  Home Street – Home Design Game      NaN     NaN     NaN  NaN      NaN   \n",
              "134706  Home Street – Home Design Game      NaN     NaN     NaN  NaN      NaN   \n",
              "134707  Home Street – Home Design Game      NaN     NaN     NaN  NaN      NaN   \n",
              "134708  Home Street – Home Design Game      NaN     NaN     NaN  NaN      NaN   \n",
              "134709  Home Street – Home Design Game      NaN     NaN     NaN  NaN      NaN   \n",
              "\n",
              "       Type Price Content Rating Genres Last Updated Current Ver Android Ver  \\\n",
              "134705  NaN   NaN            NaN    NaN          NaN         NaN         NaN   \n",
              "134706  NaN   NaN            NaN    NaN          NaN         NaN         NaN   \n",
              "134707  NaN   NaN            NaN    NaN          NaN         NaN         NaN   \n",
              "134708  NaN   NaN            NaN    NaN          NaN         NaN         NaN   \n",
              "134709  NaN   NaN            NaN    NaN          NaN         NaN         NaN   \n",
              "\n",
              "              Translated_Review Sentiment  Sentiment_Polarity  \\\n",
              "134705                      NaN       NaN                 NaN   \n",
              "134706                      NaN       NaN                 NaN   \n",
              "134707  Good graphics, fun play  Positive                 0.5   \n",
              "134708                      NaN       NaN                 NaN   \n",
              "134709                      NaN       NaN                 NaN   \n",
              "\n",
              "        Sentiment_Subjectivity  \n",
              "134705                     NaN  \n",
              "134706                     NaN  \n",
              "134707                     0.4  \n",
              "134708                     NaN  \n",
              "134709                     NaN  "
            ],
            "text/html": [
              "\n",
              "  <div id=\"df-0f458471-a100-4849-a4ba-cb29b400f9e6\">\n",
              "    <div class=\"colab-df-container\">\n",
              "      <div>\n",
              "<style scoped>\n",
              "    .dataframe tbody tr th:only-of-type {\n",
              "        vertical-align: middle;\n",
              "    }\n",
              "\n",
              "    .dataframe tbody tr th {\n",
              "        vertical-align: top;\n",
              "    }\n",
              "\n",
              "    .dataframe thead th {\n",
              "        text-align: right;\n",
              "    }\n",
              "</style>\n",
              "<table border=\"1\" class=\"dataframe\">\n",
              "  <thead>\n",
              "    <tr style=\"text-align: right;\">\n",
              "      <th></th>\n",
              "      <th>App</th>\n",
              "      <th>Category</th>\n",
              "      <th>Rating</th>\n",
              "      <th>Reviews</th>\n",
              "      <th>Size</th>\n",
              "      <th>Installs</th>\n",
              "      <th>Type</th>\n",
              "      <th>Price</th>\n",
              "      <th>Content Rating</th>\n",
              "      <th>Genres</th>\n",
              "      <th>Last Updated</th>\n",
              "      <th>Current Ver</th>\n",
              "      <th>Android Ver</th>\n",
              "      <th>Translated_Review</th>\n",
              "      <th>Sentiment</th>\n",
              "      <th>Sentiment_Polarity</th>\n",
              "      <th>Sentiment_Subjectivity</th>\n",
              "    </tr>\n",
              "  </thead>\n",
              "  <tbody>\n",
              "    <tr>\n",
              "      <th>134705</th>\n",
              "      <td>Home Street – Home Design Game</td>\n",
              "      <td>NaN</td>\n",
              "      <td>NaN</td>\n",
              "      <td>NaN</td>\n",
              "      <td>NaN</td>\n",
              "      <td>NaN</td>\n",
              "      <td>NaN</td>\n",
              "      <td>NaN</td>\n",
              "      <td>NaN</td>\n",
              "      <td>NaN</td>\n",
              "      <td>NaN</td>\n",
              "      <td>NaN</td>\n",
              "      <td>NaN</td>\n",
              "      <td>NaN</td>\n",
              "      <td>NaN</td>\n",
              "      <td>NaN</td>\n",
              "      <td>NaN</td>\n",
              "    </tr>\n",
              "    <tr>\n",
              "      <th>134706</th>\n",
              "      <td>Home Street – Home Design Game</td>\n",
              "      <td>NaN</td>\n",
              "      <td>NaN</td>\n",
              "      <td>NaN</td>\n",
              "      <td>NaN</td>\n",
              "      <td>NaN</td>\n",
              "      <td>NaN</td>\n",
              "      <td>NaN</td>\n",
              "      <td>NaN</td>\n",
              "      <td>NaN</td>\n",
              "      <td>NaN</td>\n",
              "      <td>NaN</td>\n",
              "      <td>NaN</td>\n",
              "      <td>NaN</td>\n",
              "      <td>NaN</td>\n",
              "      <td>NaN</td>\n",
              "      <td>NaN</td>\n",
              "    </tr>\n",
              "    <tr>\n",
              "      <th>134707</th>\n",
              "      <td>Home Street – Home Design Game</td>\n",
              "      <td>NaN</td>\n",
              "      <td>NaN</td>\n",
              "      <td>NaN</td>\n",
              "      <td>NaN</td>\n",
              "      <td>NaN</td>\n",
              "      <td>NaN</td>\n",
              "      <td>NaN</td>\n",
              "      <td>NaN</td>\n",
              "      <td>NaN</td>\n",
              "      <td>NaN</td>\n",
              "      <td>NaN</td>\n",
              "      <td>NaN</td>\n",
              "      <td>Good graphics, fun play</td>\n",
              "      <td>Positive</td>\n",
              "      <td>0.5</td>\n",
              "      <td>0.4</td>\n",
              "    </tr>\n",
              "    <tr>\n",
              "      <th>134708</th>\n",
              "      <td>Home Street – Home Design Game</td>\n",
              "      <td>NaN</td>\n",
              "      <td>NaN</td>\n",
              "      <td>NaN</td>\n",
              "      <td>NaN</td>\n",
              "      <td>NaN</td>\n",
              "      <td>NaN</td>\n",
              "      <td>NaN</td>\n",
              "      <td>NaN</td>\n",
              "      <td>NaN</td>\n",
              "      <td>NaN</td>\n",
              "      <td>NaN</td>\n",
              "      <td>NaN</td>\n",
              "      <td>NaN</td>\n",
              "      <td>NaN</td>\n",
              "      <td>NaN</td>\n",
              "      <td>NaN</td>\n",
              "    </tr>\n",
              "    <tr>\n",
              "      <th>134709</th>\n",
              "      <td>Home Street – Home Design Game</td>\n",
              "      <td>NaN</td>\n",
              "      <td>NaN</td>\n",
              "      <td>NaN</td>\n",
              "      <td>NaN</td>\n",
              "      <td>NaN</td>\n",
              "      <td>NaN</td>\n",
              "      <td>NaN</td>\n",
              "      <td>NaN</td>\n",
              "      <td>NaN</td>\n",
              "      <td>NaN</td>\n",
              "      <td>NaN</td>\n",
              "      <td>NaN</td>\n",
              "      <td>NaN</td>\n",
              "      <td>NaN</td>\n",
              "      <td>NaN</td>\n",
              "      <td>NaN</td>\n",
              "    </tr>\n",
              "  </tbody>\n",
              "</table>\n",
              "</div>\n",
              "      <button class=\"colab-df-convert\" onclick=\"convertToInteractive('df-0f458471-a100-4849-a4ba-cb29b400f9e6')\"\n",
              "              title=\"Convert this dataframe to an interactive table.\"\n",
              "              style=\"display:none;\">\n",
              "        \n",
              "  <svg xmlns=\"http://www.w3.org/2000/svg\" height=\"24px\"viewBox=\"0 0 24 24\"\n",
              "       width=\"24px\">\n",
              "    <path d=\"M0 0h24v24H0V0z\" fill=\"none\"/>\n",
              "    <path d=\"M18.56 5.44l.94 2.06.94-2.06 2.06-.94-2.06-.94-.94-2.06-.94 2.06-2.06.94zm-11 1L8.5 8.5l.94-2.06 2.06-.94-2.06-.94L8.5 2.5l-.94 2.06-2.06.94zm10 10l.94 2.06.94-2.06 2.06-.94-2.06-.94-.94-2.06-.94 2.06-2.06.94z\"/><path d=\"M17.41 7.96l-1.37-1.37c-.4-.4-.92-.59-1.43-.59-.52 0-1.04.2-1.43.59L10.3 9.45l-7.72 7.72c-.78.78-.78 2.05 0 2.83L4 21.41c.39.39.9.59 1.41.59.51 0 1.02-.2 1.41-.59l7.78-7.78 2.81-2.81c.8-.78.8-2.07 0-2.86zM5.41 20L4 18.59l7.72-7.72 1.47 1.35L5.41 20z\"/>\n",
              "  </svg>\n",
              "      </button>\n",
              "      \n",
              "  <style>\n",
              "    .colab-df-container {\n",
              "      display:flex;\n",
              "      flex-wrap:wrap;\n",
              "      gap: 12px;\n",
              "    }\n",
              "\n",
              "    .colab-df-convert {\n",
              "      background-color: #E8F0FE;\n",
              "      border: none;\n",
              "      border-radius: 50%;\n",
              "      cursor: pointer;\n",
              "      display: none;\n",
              "      fill: #1967D2;\n",
              "      height: 32px;\n",
              "      padding: 0 0 0 0;\n",
              "      width: 32px;\n",
              "    }\n",
              "\n",
              "    .colab-df-convert:hover {\n",
              "      background-color: #E2EBFA;\n",
              "      box-shadow: 0px 1px 2px rgba(60, 64, 67, 0.3), 0px 1px 3px 1px rgba(60, 64, 67, 0.15);\n",
              "      fill: #174EA6;\n",
              "    }\n",
              "\n",
              "    [theme=dark] .colab-df-convert {\n",
              "      background-color: #3B4455;\n",
              "      fill: #D2E3FC;\n",
              "    }\n",
              "\n",
              "    [theme=dark] .colab-df-convert:hover {\n",
              "      background-color: #434B5C;\n",
              "      box-shadow: 0px 1px 3px 1px rgba(0, 0, 0, 0.15);\n",
              "      filter: drop-shadow(0px 1px 2px rgba(0, 0, 0, 0.3));\n",
              "      fill: #FFFFFF;\n",
              "    }\n",
              "  </style>\n",
              "\n",
              "      <script>\n",
              "        const buttonEl =\n",
              "          document.querySelector('#df-0f458471-a100-4849-a4ba-cb29b400f9e6 button.colab-df-convert');\n",
              "        buttonEl.style.display =\n",
              "          google.colab.kernel.accessAllowed ? 'block' : 'none';\n",
              "\n",
              "        async function convertToInteractive(key) {\n",
              "          const element = document.querySelector('#df-0f458471-a100-4849-a4ba-cb29b400f9e6');\n",
              "          const dataTable =\n",
              "            await google.colab.kernel.invokeFunction('convertToInteractive',\n",
              "                                                     [key], {});\n",
              "          if (!dataTable) return;\n",
              "\n",
              "          const docLinkHtml = 'Like what you see? Visit the ' +\n",
              "            '<a target=\"_blank\" href=https://colab.research.google.com/notebooks/data_table.ipynb>data table notebook</a>'\n",
              "            + ' to learn more about interactive tables.';\n",
              "          element.innerHTML = '';\n",
              "          dataTable['output_type'] = 'display_data';\n",
              "          await google.colab.output.renderOutput(dataTable, element);\n",
              "          const docLink = document.createElement('div');\n",
              "          docLink.innerHTML = docLinkHtml;\n",
              "          element.appendChild(docLink);\n",
              "        }\n",
              "      </script>\n",
              "    </div>\n",
              "  </div>\n",
              "  "
            ]
          },
          "metadata": {},
          "execution_count": 8
        }
      ]
    },
    {
      "cell_type": "markdown",
      "source": [
        "### Dataset Rows & Columns count"
      ],
      "metadata": {
        "id": "7hBIi_osiCS2"
      }
    },
    {
      "cell_type": "code",
      "source": [
        "# Dataset Rows & Columns count\n",
        "df3.shape           # .shape funaction returns shape of dataset means number of rows and columns"
      ],
      "metadata": {
        "id": "Kllu7SJgmLij",
        "colab": {
          "base_uri": "https://localhost:8080/"
        },
        "outputId": "66d516bc-bc6c-442e-a062-f09aaaada81f"
      },
      "execution_count": 9,
      "outputs": [
        {
          "output_type": "execute_result",
          "data": {
            "text/plain": [
              "(134710, 17)"
            ]
          },
          "metadata": {},
          "execution_count": 9
        }
      ]
    },
    {
      "cell_type": "markdown",
      "source": [
        "### Dataset Information"
      ],
      "metadata": {
        "id": "JlHwYmJAmNHm"
      }
    },
    {
      "cell_type": "code",
      "source": [
        "# Dataset Info\n",
        "df3.info()           # .info method can be use to see the detail info regarding values and data type "
      ],
      "metadata": {
        "id": "e9hRXRi6meOf",
        "colab": {
          "base_uri": "https://localhost:8080/"
        },
        "outputId": "5a0ffaa8-5668-47ef-b0cb-be5f8b9e5eb7"
      },
      "execution_count": 10,
      "outputs": [
        {
          "output_type": "stream",
          "name": "stdout",
          "text": [
            "<class 'pandas.core.frame.DataFrame'>\n",
            "Int64Index: 134710 entries, 0 to 134709\n",
            "Data columns (total 17 columns):\n",
            " #   Column                  Non-Null Count   Dtype  \n",
            "---  ------                  --------------   -----  \n",
            " 0   App                     134710 non-null  object \n",
            " 1   Category                131971 non-null  object \n",
            " 2   Rating                  130458 non-null  float64\n",
            " 3   Reviews                 131971 non-null  object \n",
            " 4   Size                    131971 non-null  object \n",
            " 5   Installs                131971 non-null  object \n",
            " 6   Type                    131970 non-null  object \n",
            " 7   Price                   131971 non-null  object \n",
            " 8   Content Rating          131970 non-null  object \n",
            " 9   Genres                  131971 non-null  object \n",
            " 10  Last Updated            131971 non-null  object \n",
            " 11  Current Ver             131963 non-null  object \n",
            " 12  Android Ver             131968 non-null  object \n",
            " 13  Translated_Review       74103 non-null   object \n",
            " 14  Sentiment               74113 non-null   object \n",
            " 15  Sentiment_Polarity      74113 non-null   float64\n",
            " 16  Sentiment_Subjectivity  74113 non-null   float64\n",
            "dtypes: float64(3), object(14)\n",
            "memory usage: 18.5+ MB\n"
          ]
        }
      ]
    },
    {
      "cell_type": "markdown",
      "source": [
        "#### Duplicate Values"
      ],
      "metadata": {
        "id": "35m5QtbWiB9F"
      }
    },
    {
      "cell_type": "code",
      "source": [
        "# Dataset Duplicate Value Count\n",
        "df3.duplicated().value_counts()\n"
      ],
      "metadata": {
        "id": "1sLdpKYkmox0",
        "colab": {
          "base_uri": "https://localhost:8080/"
        },
        "outputId": "186cb0c8-20e6-4c91-e354-318dccc3fc25"
      },
      "execution_count": 11,
      "outputs": [
        {
          "output_type": "execute_result",
          "data": {
            "text/plain": [
              "True     82543\n",
              "False    52167\n",
              "dtype: int64"
            ]
          },
          "metadata": {},
          "execution_count": 11
        }
      ]
    },
    {
      "cell_type": "markdown",
      "source": [
        "#### Missing Values/Null Values"
      ],
      "metadata": {
        "id": "PoPl-ycgm1ru"
      }
    },
    {
      "cell_type": "code",
      "source": [
        "# Missing Values/Null Values Count\n",
        "df3.isnull().sum()              #will give the count of total null values "
      ],
      "metadata": {
        "id": "GgHWkxvamxVg",
        "colab": {
          "base_uri": "https://localhost:8080/"
        },
        "outputId": "a2a7ae56-b717-4372-95c4-5d70e280fc92"
      },
      "execution_count": 12,
      "outputs": [
        {
          "output_type": "execute_result",
          "data": {
            "text/plain": [
              "App                           0\n",
              "Category                   2739\n",
              "Rating                     4252\n",
              "Reviews                    2739\n",
              "Size                       2739\n",
              "Installs                   2739\n",
              "Type                       2740\n",
              "Price                      2739\n",
              "Content Rating             2740\n",
              "Genres                     2739\n",
              "Last Updated               2739\n",
              "Current Ver                2747\n",
              "Android Ver                2742\n",
              "Translated_Review         60607\n",
              "Sentiment                 60597\n",
              "Sentiment_Polarity        60597\n",
              "Sentiment_Subjectivity    60597\n",
              "dtype: int64"
            ]
          },
          "metadata": {},
          "execution_count": 12
        }
      ]
    },
    {
      "cell_type": "code",
      "source": [
        "# Visualizing the missing values\n",
        "import missingno as msno              # importing reqired library to  see relation between missing values\n",
        "msno.bar(df3)                         # bar plot using missingno library ( 1 on Y-axis is unity means 100% efficiency)"
      ],
      "metadata": {
        "id": "3q5wnI3om9sJ",
        "colab": {
          "base_uri": "https://localhost:8080/",
          "height": 724
        },
        "outputId": "b492a753-8059-48a0-c687-a33fe766b576"
      },
      "execution_count": 13,
      "outputs": [
        {
          "output_type": "execute_result",
          "data": {
            "text/plain": [
              "<AxesSubplot:>"
            ]
          },
          "metadata": {},
          "execution_count": 13
        },
        {
          "output_type": "display_data",
          "data": {
            "text/plain": [
              "<Figure size 1800x720 with 3 Axes>"
            ],
            "image/png": "[encoded data removed]"
          },
          "metadata": {
            "needs_background": "light"
          }
        }
      ]
    },
    {
      "cell_type": "code",
      "source": [
        "#Droping column as it has more amout of null values more then 50%\n",
        "df4=df3.drop(['Translated_Review', 'Sentiment', 'Sentiment_Polarity','Sentiment_Subjectivity'], axis=1)\n",
        "df4\n",
        "\n",
        "df4.shape"
      ],
      "metadata": {
        "id": "G0BFfYpbGUke",
        "colab": {
          "base_uri": "https://localhost:8080/"
        },
        "outputId": "d305aa9f-7cff-4ff9-dc94-e78c1e2ffa5b"
      },
      "execution_count": 14,
      "outputs": [
        {
          "output_type": "execute_result",
          "data": {
            "text/plain": [
              "(134710, 13)"
            ]
          },
          "metadata": {},
          "execution_count": 14
        }
      ]
    },
    {
      "cell_type": "markdown",
      "source": [
        "### What did you know about your dataset?"
      ],
      "metadata": {
        "id": "H0kj-8xxnORC"
      }
    },
    {
      "cell_type": "markdown",
      "source": [
        "Answer Here"
      ],
      "metadata": {
        "id": "gfoNAAC-nUe_"
      }
    },
    {
      "cell_type": "markdown",
      "source": [
        "## ***2. Understanding Your Variables***"
      ],
      "metadata": {
        "id": "nA9Y7ga8ng1Z"
      }
    },
    {
      "cell_type": "code",
      "source": [
        "# Dataset Columns\n",
        "df4.columns     #returns all column names"
      ],
      "metadata": {
        "id": "j7xfkqrt5Ag5",
        "colab": {
          "base_uri": "https://localhost:8080/"
        },
        "outputId": "f97749e9-e35b-4ac1-9ac4-939d9885fa11"
      },
      "execution_count": 15,
      "outputs": [
        {
          "output_type": "execute_result",
          "data": {
            "text/plain": [
              "Index(['App', 'Category', 'Rating', 'Reviews', 'Size', 'Installs', 'Type',\n",
              "       'Price', 'Content Rating', 'Genres', 'Last Updated', 'Current Ver',\n",
              "       'Android Ver'],\n",
              "      dtype='object')"
            ]
          },
          "metadata": {},
          "execution_count": 15
        }
      ]
    },
    {
      "cell_type": "code",
      "source": [
        "# Dataset Describe\n",
        "df4.describe()"
      ],
      "metadata": {
        "id": "DnOaZdaE5Q5t",
        "colab": {
          "base_uri": "https://localhost:8080/",
          "height": 300
        },
        "outputId": "d5aec0d4-2ab2-4f08-dcf5-d42f9dd9ccea"
      },
      "execution_count": 16,
      "outputs": [
        {
          "output_type": "execute_result",
          "data": {
            "text/plain": [
              "              Rating\n",
              "count  130458.000000\n",
              "mean        4.313525\n",
              "std         0.311306\n",
              "min         1.000000\n",
              "25%         4.200000\n",
              "50%         4.400000\n",
              "75%         4.500000\n",
              "max        19.000000"
            ],
            "text/html": [
              "\n",
              "  <div id=\"df-af9222df-b555-4207-a6a2-a0aa7f248de7\">\n",
              "    <div class=\"colab-df-container\">\n",
              "      <div>\n",
              "<style scoped>\n",
              "    .dataframe tbody tr th:only-of-type {\n",
              "        vertical-align: middle;\n",
              "    }\n",
              "\n",
              "    .dataframe tbody tr th {\n",
              "        vertical-align: top;\n",
              "    }\n",
              "\n",
              "    .dataframe thead th {\n",
              "        text-align: right;\n",
              "    }\n",
              "</style>\n",
              "<table border=\"1\" class=\"dataframe\">\n",
              "  <thead>\n",
              "    <tr style=\"text-align: right;\">\n",
              "      <th></th>\n",
              "      <th>Rating</th>\n",
              "    </tr>\n",
              "  </thead>\n",
              "  <tbody>\n",
              "    <tr>\n",
              "      <th>count</th>\n",
              "      <td>130458.000000</td>\n",
              "    </tr>\n",
              "    <tr>\n",
              "      <th>mean</th>\n",
              "      <td>4.313525</td>\n",
              "    </tr>\n",
              "    <tr>\n",
              "      <th>std</th>\n",
              "      <td>0.311306</td>\n",
              "    </tr>\n",
              "    <tr>\n",
              "      <th>min</th>\n",
              "      <td>1.000000</td>\n",
              "    </tr>\n",
              "    <tr>\n",
              "      <th>25%</th>\n",
              "      <td>4.200000</td>\n",
              "    </tr>\n",
              "    <tr>\n",
              "      <th>50%</th>\n",
              "      <td>4.400000</td>\n",
              "    </tr>\n",
              "    <tr>\n",
              "      <th>75%</th>\n",
              "      <td>4.500000</td>\n",
              "    </tr>\n",
              "    <tr>\n",
              "      <th>max</th>\n",
              "      <td>19.000000</td>\n",
              "    </tr>\n",
              "  </tbody>\n",
              "</table>\n",
              "</div>\n",
              "      <button class=\"colab-df-convert\" onclick=\"convertToInteractive('df-af9222df-b555-4207-a6a2-a0aa7f248de7')\"\n",
              "              title=\"Convert this dataframe to an interactive table.\"\n",
              "              style=\"display:none;\">\n",
              "        \n",
              "  <svg xmlns=\"http://www.w3.org/2000/svg\" height=\"24px\"viewBox=\"0 0 24 24\"\n",
              "       width=\"24px\">\n",
              "    <path d=\"M0 0h24v24H0V0z\" fill=\"none\"/>\n",
              "    <path d=\"M18.56 5.44l.94 2.06.94-2.06 2.06-.94-2.06-.94-.94-2.06-.94 2.06-2.06.94zm-11 1L8.5 8.5l.94-2.06 2.06-.94-2.06-.94L8.5 2.5l-.94 2.06-2.06.94zm10 10l.94 2.06.94-2.06 2.06-.94-2.06-.94-.94-2.06-.94 2.06-2.06.94z\"/><path d=\"M17.41 7.96l-1.37-1.37c-.4-.4-.92-.59-1.43-.59-.52 0-1.04.2-1.43.59L10.3 9.45l-7.72 7.72c-.78.78-.78 2.05 0 2.83L4 21.41c.39.39.9.59 1.41.59.51 0 1.02-.2 1.41-.59l7.78-7.78 2.81-2.81c.8-.78.8-2.07 0-2.86zM5.41 20L4 18.59l7.72-7.72 1.47 1.35L5.41 20z\"/>\n",
              "  </svg>\n",
              "      </button>\n",
              "      \n",
              "  <style>\n",
              "    .colab-df-container {\n",
              "      display:flex;\n",
              "      flex-wrap:wrap;\n",
              "      gap: 12px;\n",
              "    }\n",
              "\n",
              "    .colab-df-convert {\n",
              "      background-color: #E8F0FE;\n",
              "      border: none;\n",
              "      border-radius: 50%;\n",
              "      cursor: pointer;\n",
              "      display: none;\n",
              "      fill: #1967D2;\n",
              "      height: 32px;\n",
              "      padding: 0 0 0 0;\n",
              "      width: 32px;\n",
              "    }\n",
              "\n",
              "    .colab-df-convert:hover {\n",
              "      background-color: #E2EBFA;\n",
              "      box-shadow: 0px 1px 2px rgba(60, 64, 67, 0.3), 0px 1px 3px 1px rgba(60, 64, 67, 0.15);\n",
              "      fill: #174EA6;\n",
              "    }\n",
              "\n",
              "    [theme=dark] .colab-df-convert {\n",
              "      background-color: #3B4455;\n",
              "      fill: #D2E3FC;\n",
              "    }\n",
              "\n",
              "    [theme=dark] .colab-df-convert:hover {\n",
              "      background-color: #434B5C;\n",
              "      box-shadow: 0px 1px 3px 1px rgba(0, 0, 0, 0.15);\n",
              "      filter: drop-shadow(0px 1px 2px rgba(0, 0, 0, 0.3));\n",
              "      fill: #FFFFFF;\n",
              "    }\n",
              "  </style>\n",
              "\n",
              "      <script>\n",
              "        const buttonEl =\n",
              "          document.querySelector('#df-af9222df-b555-4207-a6a2-a0aa7f248de7 button.colab-df-convert');\n",
              "        buttonEl.style.display =\n",
              "          google.colab.kernel.accessAllowed ? 'block' : 'none';\n",
              "\n",
              "        async function convertToInteractive(key) {\n",
              "          const element = document.querySelector('#df-af9222df-b555-4207-a6a2-a0aa7f248de7');\n",
              "          const dataTable =\n",
              "            await google.colab.kernel.invokeFunction('convertToInteractive',\n",
              "                                                     [key], {});\n",
              "          if (!dataTable) return;\n",
              "\n",
              "          const docLinkHtml = 'Like what you see? Visit the ' +\n",
              "            '<a target=\"_blank\" href=https://colab.research.google.com/notebooks/data_table.ipynb>data table notebook</a>'\n",
              "            + ' to learn more about interactive tables.';\n",
              "          element.innerHTML = '';\n",
              "          dataTable['output_type'] = 'display_data';\n",
              "          await google.colab.output.renderOutput(dataTable, element);\n",
              "          const docLink = document.createElement('div');\n",
              "          docLink.innerHTML = docLinkHtml;\n",
              "          element.appendChild(docLink);\n",
              "        }\n",
              "      </script>\n",
              "    </div>\n",
              "  </div>\n",
              "  "
            ]
          },
          "metadata": {},
          "execution_count": 16
        }
      ]
    },
    {
      "cell_type": "code",
      "source": [
        "df4.index[df3[\"Category\"]==\"1.9\"]     #finding the index\n",
        "df4.drop([10472], axis = 0 ,inplace= True)   #removing this value because it is coming everywhere and also it is useless\n"
      ],
      "metadata": {
        "id": "lyKl_Ck5RM4c"
      },
      "execution_count": 17,
      "outputs": []
    },
    {
      "cell_type": "markdown",
      "source": [
        "**Columns which require conversion:**\n",
        "\n",
        "Reviews should be numeric(integer) instead of object\n",
        "\n",
        "Installs should not have \"+\" and \",\" signs and must be integer\n",
        "\n",
        "Price should also be converted from object dtype to float and remove '$' sign\n",
        "\n",
        "Last_Updated should be a date instead of Object"
      ],
      "metadata": {
        "id": "J62UUEWSZpn-"
      }
    },
    {
      "cell_type": "code",
      "source": [
        "df4[\"Installs\"]= df4.Installs.str.replace(\",\",\"\") \n",
        "df4[\"Installs\"]= df4.Installs.str.replace(\"+\",\"\")\n",
        "df4['Installs']= df4.Installs.replace(\"Free\",np.nan)\n",
        "df4[\"Installs\"]= df4[\"Installs\"].astype(float)"
      ],
      "metadata": {
        "id": "fYXZRHfLRMM9",
        "colab": {
          "base_uri": "https://localhost:8080/"
        },
        "outputId": "cfe9f7f8-2ed1-4231-dcc2-8dcf0b294d65"
      },
      "execution_count": 18,
      "outputs": [
        {
          "output_type": "stream",
          "name": "stderr",
          "text": [
            "<ipython-input-18-aebbc7f6e8bc>:2: FutureWarning: The default value of regex will change from True to False in a future version. In addition, single character regular expressions will *not* be treated as literal strings when regex=True.\n",
            "  df4[\"Installs\"]= df4.Installs.str.replace(\"+\",\"\")\n"
          ]
        }
      ]
    },
    {
      "cell_type": "code",
      "source": [
        "df4[\"Installs\"].dtype"
      ],
      "metadata": {
        "id": "sMqak5ddcKEo",
        "colab": {
          "base_uri": "https://localhost:8080/"
        },
        "outputId": "51c14344-2a19-44be-db29-0530bc8e5efa"
      },
      "execution_count": 19,
      "outputs": [
        {
          "output_type": "execute_result",
          "data": {
            "text/plain": [
              "dtype('float64')"
            ]
          },
          "metadata": {},
          "execution_count": 19
        }
      ]
    },
    {
      "cell_type": "code",
      "source": [
        "df4[\"Price\"]=df4.Price.replace(\"Everyone\",np.nan)\n",
        "df4[\"Price\"]=df4.Price.str.replace(\"$\",\"\").astype(float)"
      ],
      "metadata": {
        "id": "I3Jwj1qncKA8",
        "colab": {
          "base_uri": "https://localhost:8080/"
        },
        "outputId": "097b6f5b-9e8e-492a-ab52-69d2c840f064"
      },
      "execution_count": 20,
      "outputs": [
        {
          "output_type": "stream",
          "name": "stderr",
          "text": [
            "<ipython-input-20-a01e4aae737e>:2: FutureWarning: The default value of regex will change from True to False in a future version. In addition, single character regular expressions will *not* be treated as literal strings when regex=True.\n",
            "  df4[\"Price\"]=df4.Price.str.replace(\"$\",\"\").astype(float)\n"
          ]
        }
      ]
    },
    {
      "cell_type": "code",
      "source": [
        "df4[\"Price\"].dtype"
      ],
      "metadata": {
        "id": "nAhPFSHrcJ-o",
        "colab": {
          "base_uri": "https://localhost:8080/"
        },
        "outputId": "c5b06d3f-8eb2-465a-8fa8-5bbb0a605f54"
      },
      "execution_count": 21,
      "outputs": [
        {
          "output_type": "execute_result",
          "data": {
            "text/plain": [
              "dtype('float64')"
            ]
          },
          "metadata": {},
          "execution_count": 21
        }
      ]
    },
    {
      "cell_type": "code",
      "source": [
        "# converting size column from object to int \n",
        "df4['Size'] = df4.Size.replace(\"Varies with device\",np.nan)  #using replace function to replace the character in column\n",
        "df4['Size'] = df4.Size.str.replace(\"M\",\"000\") # All size values became the kilobyte type.\n",
        "df4['Size'] = df4.Size.str.replace(\"k\",\"\")\n",
        "df4['Size'] = df4.Size.replace(\"1,000+\",1000)\n",
        "df4['Size'] = df4['Size'].astype(float)\n"
      ],
      "metadata": {
        "id": "RmOzIFy9iuBR"
      },
      "execution_count": 22,
      "outputs": []
    },
    {
      "cell_type": "code",
      "source": [
        "#converting Reviews value from object to float so it can be easy to analys\n",
        "df4['Reviews'] = df4.Reviews.replace(\"0.0\",0)\n",
        "df4['Reviews'] = df4.Reviews.replace(\"3.0M\",3000000.0)\n",
        "df4['Reviews'] = df4['Reviews'].astype(float)\n",
        "df4['Reviews'].dtype  #shows dtype of column"
      ],
      "metadata": {
        "id": "tPHXVN2TCR6S",
        "colab": {
          "base_uri": "https://localhost:8080/"
        },
        "outputId": "c022ac7a-0d59-4f06-ff5d-9b808d28d240"
      },
      "execution_count": 23,
      "outputs": [
        {
          "output_type": "execute_result",
          "data": {
            "text/plain": [
              "dtype('float64')"
            ]
          },
          "metadata": {},
          "execution_count": 23
        }
      ]
    },
    {
      "cell_type": "code",
      "source": [
        "df4.info()"
      ],
      "metadata": {
        "id": "XORh5Y3kCRyw",
        "colab": {
          "base_uri": "https://localhost:8080/"
        },
        "outputId": "06f2133f-f5c2-4ab3-fd5f-26847d30c1b0"
      },
      "execution_count": 24,
      "outputs": [
        {
          "output_type": "stream",
          "name": "stdout",
          "text": [
            "<class 'pandas.core.frame.DataFrame'>\n",
            "Int64Index: 134709 entries, 0 to 134709\n",
            "Data columns (total 13 columns):\n",
            " #   Column          Non-Null Count   Dtype  \n",
            "---  ------          --------------   -----  \n",
            " 0   App             134709 non-null  object \n",
            " 1   Category        131970 non-null  object \n",
            " 2   Rating          130457 non-null  float64\n",
            " 3   Reviews         131970 non-null  float64\n",
            " 4   Size            83564 non-null   float64\n",
            " 5   Installs        131969 non-null  float64\n",
            " 6   Type            131969 non-null  object \n",
            " 7   Price           131969 non-null  float64\n",
            " 8   Content Rating  131969 non-null  object \n",
            " 9   Genres          131970 non-null  object \n",
            " 10  Last Updated    131970 non-null  object \n",
            " 11  Current Ver     131962 non-null  object \n",
            " 12  Android Ver     131967 non-null  object \n",
            "dtypes: float64(5), object(8)\n",
            "memory usage: 14.4+ MB\n"
          ]
        }
      ]
    },
    {
      "cell_type": "code",
      "source": [
        "df4['Size'].dtype   #shows dtype of column"
      ],
      "metadata": {
        "id": "Id8Ck146it92",
        "colab": {
          "base_uri": "https://localhost:8080/"
        },
        "outputId": "4e9fe076-3098-4a6f-dd1b-713387357eb5"
      },
      "execution_count": 25,
      "outputs": [
        {
          "output_type": "execute_result",
          "data": {
            "text/plain": [
              "dtype('float64')"
            ]
          },
          "metadata": {},
          "execution_count": 25
        }
      ]
    },
    {
      "cell_type": "code",
      "source": [
        "df4.describe()  #using describe function to see detail discribtion of data"
      ],
      "metadata": {
        "id": "RMWIit6Gvai8",
        "colab": {
          "base_uri": "https://localhost:8080/",
          "height": 300
        },
        "outputId": "4a7689ea-3fd1-45c3-a919-e4c6a1ca0e6b"
      },
      "execution_count": 26,
      "outputs": [
        {
          "output_type": "execute_result",
          "data": {
            "text/plain": [
              "              Rating       Reviews           Size      Installs          Price\n",
              "count  130457.000000  1.319700e+05   83564.000000  1.319690e+05  131969.000000\n",
              "mean        4.313523  2.108074e+06   32060.271802  6.860385e+07       0.201739\n",
              "std         0.311306  6.155273e+06   28628.500441  1.843533e+08       4.816079\n",
              "min         1.000000  0.000000e+00       1.000000  0.000000e+00       0.000000\n",
              "25%         4.200000  1.987000e+04   10000.000000  1.000000e+06       0.000000\n",
              "50%         4.400000  1.366260e+05   24000.000000  1.000000e+07       0.000000\n",
              "75%         4.500000  1.480189e+06   52000.000000  5.000000e+07       0.000000\n",
              "max        19.000000  7.815831e+07  100000.000000  1.000000e+09     400.000000"
            ],
            "text/html": [
              "\n",
              "  <div id=\"df-25460e6c-d8fd-4744-925d-b6e6fa119beb\">\n",
              "    <div class=\"colab-df-container\">\n",
              "      <div>\n",
              "<style scoped>\n",
              "    .dataframe tbody tr th:only-of-type {\n",
              "        vertical-align: middle;\n",
              "    }\n",
              "\n",
              "    .dataframe tbody tr th {\n",
              "        vertical-align: top;\n",
              "    }\n",
              "\n",
              "    .dataframe thead th {\n",
              "        text-align: right;\n",
              "    }\n",
              "</style>\n",
              "<table border=\"1\" class=\"dataframe\">\n",
              "  <thead>\n",
              "    <tr style=\"text-align: right;\">\n",
              "      <th></th>\n",
              "      <th>Rating</th>\n",
              "      <th>Reviews</th>\n",
              "      <th>Size</th>\n",
              "      <th>Installs</th>\n",
              "      <th>Price</th>\n",
              "    </tr>\n",
              "  </thead>\n",
              "  <tbody>\n",
              "    <tr>\n",
              "      <th>count</th>\n",
              "      <td>130457.000000</td>\n",
              "      <td>1.319700e+05</td>\n",
              "      <td>83564.000000</td>\n",
              "      <td>1.319690e+05</td>\n",
              "      <td>131969.000000</td>\n",
              "    </tr>\n",
              "    <tr>\n",
              "      <th>mean</th>\n",
              "      <td>4.313523</td>\n",
              "      <td>2.108074e+06</td>\n",
              "      <td>32060.271802</td>\n",
              "      <td>6.860385e+07</td>\n",
              "      <td>0.201739</td>\n",
              "    </tr>\n",
              "    <tr>\n",
              "      <th>std</th>\n",
              "      <td>0.311306</td>\n",
              "      <td>6.155273e+06</td>\n",
              "      <td>28628.500441</td>\n",
              "      <td>1.843533e+08</td>\n",
              "      <td>4.816079</td>\n",
              "    </tr>\n",
              "    <tr>\n",
              "      <th>min</th>\n",
              "      <td>1.000000</td>\n",
              "      <td>0.000000e+00</td>\n",
              "      <td>1.000000</td>\n",
              "      <td>0.000000e+00</td>\n",
              "      <td>0.000000</td>\n",
              "    </tr>\n",
              "    <tr>\n",
              "      <th>25%</th>\n",
              "      <td>4.200000</td>\n",
              "      <td>1.987000e+04</td>\n",
              "      <td>10000.000000</td>\n",
              "      <td>1.000000e+06</td>\n",
              "      <td>0.000000</td>\n",
              "    </tr>\n",
              "    <tr>\n",
              "      <th>50%</th>\n",
              "      <td>4.400000</td>\n",
              "      <td>1.366260e+05</td>\n",
              "      <td>24000.000000</td>\n",
              "      <td>1.000000e+07</td>\n",
              "      <td>0.000000</td>\n",
              "    </tr>\n",
              "    <tr>\n",
              "      <th>75%</th>\n",
              "      <td>4.500000</td>\n",
              "      <td>1.480189e+06</td>\n",
              "      <td>52000.000000</td>\n",
              "      <td>5.000000e+07</td>\n",
              "      <td>0.000000</td>\n",
              "    </tr>\n",
              "    <tr>\n",
              "      <th>max</th>\n",
              "      <td>19.000000</td>\n",
              "      <td>7.815831e+07</td>\n",
              "      <td>100000.000000</td>\n",
              "      <td>1.000000e+09</td>\n",
              "      <td>400.000000</td>\n",
              "    </tr>\n",
              "  </tbody>\n",
              "</table>\n",
              "</div>\n",
              "      <button class=\"colab-df-convert\" onclick=\"convertToInteractive('df-25460e6c-d8fd-4744-925d-b6e6fa119beb')\"\n",
              "              title=\"Convert this dataframe to an interactive table.\"\n",
              "              style=\"display:none;\">\n",
              "        \n",
              "  <svg xmlns=\"http://www.w3.org/2000/svg\" height=\"24px\"viewBox=\"0 0 24 24\"\n",
              "       width=\"24px\">\n",
              "    <path d=\"M0 0h24v24H0V0z\" fill=\"none\"/>\n",
              "    <path d=\"M18.56 5.44l.94 2.06.94-2.06 2.06-.94-2.06-.94-.94-2.06-.94 2.06-2.06.94zm-11 1L8.5 8.5l.94-2.06 2.06-.94-2.06-.94L8.5 2.5l-.94 2.06-2.06.94zm10 10l.94 2.06.94-2.06 2.06-.94-2.06-.94-.94-2.06-.94 2.06-2.06.94z\"/><path d=\"M17.41 7.96l-1.37-1.37c-.4-.4-.92-.59-1.43-.59-.52 0-1.04.2-1.43.59L10.3 9.45l-7.72 7.72c-.78.78-.78 2.05 0 2.83L4 21.41c.39.39.9.59 1.41.59.51 0 1.02-.2 1.41-.59l7.78-7.78 2.81-2.81c.8-.78.8-2.07 0-2.86zM5.41 20L4 18.59l7.72-7.72 1.47 1.35L5.41 20z\"/>\n",
              "  </svg>\n",
              "      </button>\n",
              "      \n",
              "  <style>\n",
              "    .colab-df-container {\n",
              "      display:flex;\n",
              "      flex-wrap:wrap;\n",
              "      gap: 12px;\n",
              "    }\n",
              "\n",
              "    .colab-df-convert {\n",
              "      background-color: #E8F0FE;\n",
              "      border: none;\n",
              "      border-radius: 50%;\n",
              "      cursor: pointer;\n",
              "      display: none;\n",
              "      fill: #1967D2;\n",
              "      height: 32px;\n",
              "      padding: 0 0 0 0;\n",
              "      width: 32px;\n",
              "    }\n",
              "\n",
              "    .colab-df-convert:hover {\n",
              "      background-color: #E2EBFA;\n",
              "      box-shadow: 0px 1px 2px rgba(60, 64, 67, 0.3), 0px 1px 3px 1px rgba(60, 64, 67, 0.15);\n",
              "      fill: #174EA6;\n",
              "    }\n",
              "\n",
              "    [theme=dark] .colab-df-convert {\n",
              "      background-color: #3B4455;\n",
              "      fill: #D2E3FC;\n",
              "    }\n",
              "\n",
              "    [theme=dark] .colab-df-convert:hover {\n",
              "      background-color: #434B5C;\n",
              "      box-shadow: 0px 1px 3px 1px rgba(0, 0, 0, 0.15);\n",
              "      filter: drop-shadow(0px 1px 2px rgba(0, 0, 0, 0.3));\n",
              "      fill: #FFFFFF;\n",
              "    }\n",
              "  </style>\n",
              "\n",
              "      <script>\n",
              "        const buttonEl =\n",
              "          document.querySelector('#df-25460e6c-d8fd-4744-925d-b6e6fa119beb button.colab-df-convert');\n",
              "        buttonEl.style.display =\n",
              "          google.colab.kernel.accessAllowed ? 'block' : 'none';\n",
              "\n",
              "        async function convertToInteractive(key) {\n",
              "          const element = document.querySelector('#df-25460e6c-d8fd-4744-925d-b6e6fa119beb');\n",
              "          const dataTable =\n",
              "            await google.colab.kernel.invokeFunction('convertToInteractive',\n",
              "                                                     [key], {});\n",
              "          if (!dataTable) return;\n",
              "\n",
              "          const docLinkHtml = 'Like what you see? Visit the ' +\n",
              "            '<a target=\"_blank\" href=https://colab.research.google.com/notebooks/data_table.ipynb>data table notebook</a>'\n",
              "            + ' to learn more about interactive tables.';\n",
              "          element.innerHTML = '';\n",
              "          dataTable['output_type'] = 'display_data';\n",
              "          await google.colab.output.renderOutput(dataTable, element);\n",
              "          const docLink = document.createElement('div');\n",
              "          docLink.innerHTML = docLinkHtml;\n",
              "          element.appendChild(docLink);\n",
              "        }\n",
              "      </script>\n",
              "    </div>\n",
              "  </div>\n",
              "  "
            ]
          },
          "metadata": {},
          "execution_count": 26
        }
      ]
    },
    {
      "cell_type": "markdown",
      "source": [
        "### Variables Description "
      ],
      "metadata": {
        "id": "PBTbrJXOngz2"
      }
    },
    {
      "cell_type": "markdown",
      "source": [
        "Let us first define what information the columns contain based on our inspection. \n",
        "\n",
        "The play_store dataframe has 134710 rows and 17 columns. The 13 columns are identified as below:\n",
        "\n",
        "App - It tells us about the name of the application with a short description (optional).\n",
        "\n",
        "Category - It gives the category to the app.\n",
        "\n",
        "Rating - It contains the average rating the respective app received from its users.\n",
        "\n",
        "Reviews - It tells us about the total number of users who have given a review for the application.\n",
        "\n",
        "Size - It tells us about the size being occupied the application on the mobile phone.\n",
        "\n",
        "Installs - It tells us about the total number of installs/downloads for an application.\n",
        "\n",
        "Type - It states whether an app is free to use or paid.\n",
        "\n",
        "Price - It gives the price payable to install the app. For free type apps, the price is zero.\n",
        "\n",
        "Content Rating - It states whether or not an app is suitable for all age groups or not.\n",
        "\n",
        "Genres - It tells us about the various other categories to which an application can belong.\n",
        "\n",
        "Last Updated - It tells us about the when the application was updated.\n",
        "\n",
        "Current Ver - It tells us about the current version of the application.\n",
        "\n",
        "Android Ver - It tells us about the android version which can support the application on its platform."
      ],
      "metadata": {
        "id": "aJV4KIxSnxay"
      }
    },
    {
      "cell_type": "markdown",
      "source": [
        "### Check Unique Values for each variable."
      ],
      "metadata": {
        "id": "u3PMJOP6ngxN"
      }
    },
    {
      "cell_type": "code",
      "source": [
        "# Check Unique Values for each variable.\n",
        "# first let us Check Unique Values for object type variable.\n",
        "for i in df4.select_dtypes(include=\"object\").columns:\n",
        "  print (i)\n",
        "  print(df4[i].unique())"
      ],
      "metadata": {
        "id": "zms12Yq5n-jE",
        "colab": {
          "base_uri": "https://localhost:8080/"
        },
        "outputId": "d866f411-7642-4c4d-bb22-0425b0bdcb6f"
      },
      "execution_count": 27,
      "outputs": [
        {
          "output_type": "stream",
          "name": "stdout",
          "text": [
            "App\n",
            "['Photo Editor & Candy Camera & Grid & ScrapBook' 'Coloring book moana'\n",
            " 'U Launcher Lite – FREE Live Cool Themes, Hide Apps' ...\n",
            " 'GANMA! - オリジナル漫画が全話無料で読み放題' 'GialloZafferano: le Ricette'\n",
            " 'Home Street – Home Design Game']\n",
            "Category\n",
            "['ART_AND_DESIGN' 'FAMILY' 'AUTO_AND_VEHICLES' 'BEAUTY'\n",
            " 'BOOKS_AND_REFERENCE' 'BUSINESS' 'COMMUNICATION' 'COMICS' 'DATING'\n",
            " 'TOOLS' 'EDUCATION' 'ENTERTAINMENT' 'EVENTS' 'FINANCE' 'FOOD_AND_DRINK'\n",
            " 'HEALTH_AND_FITNESS' 'MEDICAL' 'HOUSE_AND_HOME' 'LIBRARIES_AND_DEMO'\n",
            " 'LIFESTYLE' 'GAME' 'SPORTS' 'VIDEO_PLAYERS' 'SOCIAL' 'SHOPPING'\n",
            " 'PHOTOGRAPHY' 'TRAVEL_AND_LOCAL' 'PERSONALIZATION' 'PRODUCTIVITY'\n",
            " 'PARENTING' 'WEATHER' 'NEWS_AND_MAGAZINES' 'MAPS_AND_NAVIGATION' '1.9'\n",
            " nan]\n",
            "Type\n",
            "['Free' 'Paid' nan '0']\n",
            "Content Rating\n",
            "['Everyone' 'Teen' 'Everyone 10+' 'Mature 17+' 'Adults only 18+' 'Unrated'\n",
            " nan]\n",
            "Genres\n",
            "['Art & Design' 'Art & Design;Pretend Play' 'Art & Design;Creativity'\n",
            " 'Art & Design;Action & Adventure' 'Auto & Vehicles' 'Beauty'\n",
            " 'Books & Reference' 'Business' 'Communication' 'Comics'\n",
            " 'Comics;Creativity' 'Dating' 'Tools' 'Education;Education' 'Education'\n",
            " 'Education;Creativity' 'Education;Music & Video'\n",
            " 'Education;Action & Adventure' 'Education;Pretend Play'\n",
            " 'Education;Brain Games' 'Entertainment' 'Entertainment;Music & Video'\n",
            " 'Entertainment;Brain Games' 'Entertainment;Creativity' 'Events' 'Finance'\n",
            " 'Food & Drink' 'Health & Fitness' 'Medical' 'House & Home'\n",
            " 'Libraries & Demo' 'Lifestyle' 'Lifestyle;Pretend Play'\n",
            " 'Adventure;Action & Adventure' 'Arcade' 'Casual' 'Card'\n",
            " 'Card;Brain Games' 'Puzzle;Brain Games' 'Casual;Pretend Play' 'Action'\n",
            " 'Strategy' 'Puzzle' 'Sports' 'Music' 'Word' 'Racing' 'Casual;Creativity'\n",
            " 'Casual;Action & Adventure' 'Simulation' 'Adventure' 'Board' 'Trivia'\n",
            " 'Role Playing' 'Simulation;Education' 'Action;Action & Adventure'\n",
            " 'Casual;Brain Games' 'Simulation;Action & Adventure'\n",
            " 'Educational;Creativity' 'Educational;Education'\n",
            " 'Educational;Brain Games' 'Educational;Pretend Play'\n",
            " 'Entertainment;Education' 'Casual;Education' 'Music;Music & Video'\n",
            " 'Racing;Action & Adventure' 'Arcade;Pretend Play'\n",
            " 'Role Playing;Action & Adventure' 'Simulation;Pretend Play'\n",
            " 'Puzzle;Creativity' 'Sports;Action & Adventure'\n",
            " 'Educational;Action & Adventure' 'Arcade;Action & Adventure'\n",
            " 'Entertainment;Action & Adventure' 'Puzzle;Action & Adventure'\n",
            " 'Strategy;Action & Adventure' 'Music & Audio;Music & Video'\n",
            " 'Health & Fitness;Education' 'Adventure;Education' 'Board;Brain Games'\n",
            " 'Board;Action & Adventure' 'Board;Pretend Play' 'Casual;Music & Video'\n",
            " 'Role Playing;Pretend Play' 'Entertainment;Pretend Play'\n",
            " 'Video Players & Editors;Creativity' 'Video Players & Editors'\n",
            " 'Card;Action & Adventure' 'Social' 'Shopping' 'Photography'\n",
            " 'Travel & Local' 'Travel & Local;Action & Adventure' 'Tools;Education'\n",
            " 'Personalization' 'Productivity' 'Parenting' 'Parenting;Music & Video'\n",
            " 'Parenting;Education' 'Parenting;Brain Games' 'Weather'\n",
            " 'Video Players & Editors;Music & Video' 'News & Magazines'\n",
            " 'Maps & Navigation' 'Health & Fitness;Action & Adventure' 'Educational'\n",
            " 'Casino' 'Adventure;Brain Games' 'Trivia;Education' 'Lifestyle;Education'\n",
            " 'Books & Reference;Creativity' 'Books & Reference;Education'\n",
            " 'Puzzle;Education' 'Role Playing;Education' 'Role Playing;Brain Games'\n",
            " 'Strategy;Education' 'Racing;Pretend Play' 'Communication;Creativity'\n",
            " 'February 11, 2018' 'Strategy;Creativity' nan]\n",
            "Last Updated\n",
            "['January 7, 2018' 'January 15, 2018' 'August 1, 2018' ...\n",
            " 'February 16, 2014' 'March 23, 2014' nan]\n",
            "Current Ver\n",
            "['1.0.0' '2.0.0' '1.2.4' ... '1.0.612928' '0.3.4' '2.0.148.0']\n",
            "Android Ver\n",
            "['4.0.3 and up' '4.2 and up' '4.4 and up' '2.3 and up' '3.0 and up'\n",
            " '4.1 and up' '4.0 and up' '2.3.3 and up' 'Varies with device'\n",
            " '2.2 and up' '5.0 and up' '6.0 and up' '1.6 and up' '1.5 and up'\n",
            " '2.1 and up' '7.0 and up' '5.1 and up' '4.3 and up' '4.0.3 - 7.1.1'\n",
            " '2.0 and up' '3.2 and up' '4.4W and up' '7.1 and up' '7.0 - 7.1.1'\n",
            " '8.0 and up' '5.0 - 8.0' '3.1 and up' '2.0.1 and up' '4.1 - 7.1.1' nan\n",
            " '5.0 - 6.0' '1.0 and up' '2.2 - 7.1.1' '5.0 - 7.1.1']\n"
          ]
        }
      ]
    },
    {
      "cell_type": "code",
      "source": [
        "# Now Check Unique Values for numeric variable.\n",
        "for i in df4.select_dtypes(include='float64').columns:   \n",
        "  print(i)\n",
        "  print(df4[i].unique())"
      ],
      "metadata": {
        "id": "num6PHeiFTGF",
        "colab": {
          "base_uri": "https://localhost:8080/"
        },
        "outputId": "826380dc-ee97-4e07-9c93-54c5c66f0fac"
      },
      "execution_count": 28,
      "outputs": [
        {
          "output_type": "stream",
          "name": "stdout",
          "text": [
            "Rating\n",
            "[ 4.1  3.9  4.7  4.5  4.3  4.4  3.8  4.2  4.6  3.2  4.   nan  4.8  4.9\n",
            "  3.6  3.7  3.3  3.4  3.5  3.1  5.   2.6  3.   1.9  2.5  2.8  2.7  1.\n",
            "  2.9  2.3  2.2  1.7  2.   1.8  2.4  1.6  2.1  1.4  1.5  1.2 19. ]\n",
            "Reviews\n",
            "[1.59000e+02 9.67000e+02 9.74000e+02 ... 1.19500e+03 3.98307e+05\n",
            "         nan]\n",
            "Size\n",
            "[1.90e+04 1.40e+04 8.70e+00 2.50e+04 2.80e+00 5.60e+00 2.90e+04 3.30e+04\n",
            " 3.10e+00 2.80e+04 1.20e+04 2.00e+04 2.10e+04 3.70e+04 2.70e+00 5.50e+00\n",
            " 1.70e+04 3.90e+04 3.10e+04 4.20e+00 7.00e+00 2.30e+04 6.00e+00 6.10e+00\n",
            " 4.60e+00 9.20e+00 5.20e+00 1.10e+04 2.40e+04      nan 9.40e+00 1.50e+04\n",
            " 1.00e+04 1.20e+00 2.60e+04 8.00e+00 7.90e+00 5.60e+04 5.70e+04 3.50e+04\n",
            " 5.40e+04 2.01e+02 3.60e+00 5.70e+00 8.60e+00 2.40e+00 2.70e+04 2.50e+00\n",
            " 1.60e+04 3.40e+00 8.90e+00 3.90e+00 2.90e+00 3.80e+04 3.20e+04 5.40e+00\n",
            " 1.80e+04 1.10e+00 2.20e+00 4.50e+00 9.80e+00 5.20e+04 9.00e+00 6.70e+00\n",
            " 3.00e+04 2.60e+00 7.10e+00 3.70e+00 2.20e+04 7.40e+00 6.40e+00 3.20e+00\n",
            " 8.20e+00 9.90e+00 4.90e+00 9.50e+00 5.00e+00 5.90e+00 1.30e+04 7.30e+04\n",
            " 6.80e+00 3.50e+00 4.00e+00 2.30e+00 7.20e+00 2.10e+00 4.20e+04 7.30e+00\n",
            " 9.10e+00 5.50e+04 2.30e+01 6.50e+00 1.50e+00 7.50e+00 5.10e+04 4.10e+04\n",
            " 4.80e+04 8.50e+00 4.60e+04 8.30e+00 4.30e+00 4.70e+00 3.30e+00 4.00e+04\n",
            " 7.80e+00 8.80e+00 6.60e+00 5.10e+00 6.10e+04 6.60e+04 7.90e+01 8.40e+00\n",
            " 1.18e+02 4.40e+04 6.95e+02 1.60e+00 6.20e+00 1.80e+01 5.30e+04 1.40e+00\n",
            " 3.00e+00 5.80e+00 3.80e+00 9.60e+00 4.50e+04 6.30e+04 4.90e+04 7.70e+04\n",
            " 4.40e+00 4.80e+00 7.00e+04 6.90e+00 9.30e+00 1.00e+01 8.10e+00 3.60e+04\n",
            " 8.40e+04 9.70e+04 2.00e+00 1.90e+00 1.80e+00 5.30e+00 4.70e+04 5.56e+02\n",
            " 5.26e+02 7.60e+04 7.60e+00 5.90e+04 9.70e+00 7.80e+04 7.20e+04 4.30e+04\n",
            " 7.70e+00 6.30e+00 3.34e+02 3.40e+04 9.30e+04 6.50e+04 7.90e+04 1.00e+05\n",
            " 5.80e+04 5.00e+04 6.80e+04 6.40e+04 6.70e+04 6.00e+04 9.40e+04 4.10e+00\n",
            " 2.32e+02 9.90e+04 6.24e+02 9.50e+04 4.10e+01 2.92e+02 1.10e+01 8.00e+04\n",
            " 1.70e+00 7.40e+04 6.20e+04 6.90e+04 7.50e+04 9.80e+04 8.50e+04 7.10e+04\n",
            " 8.20e+04 9.60e+04 8.70e+04 8.60e+04 9.10e+04 8.10e+04 9.20e+04 8.30e+04\n",
            " 8.80e+04 7.04e+02 8.62e+02 8.99e+02 3.78e+02 2.66e+02 3.75e+02 1.30e+00\n",
            " 9.75e+02 9.80e+02 8.90e+04 6.96e+02 5.44e+02 5.25e+02 9.20e+02 7.79e+02\n",
            " 8.53e+02 7.20e+02 7.13e+02 7.72e+02 3.18e+02 5.80e+01 2.41e+02 1.96e+02\n",
            " 8.57e+02 5.10e+01 9.53e+02 8.65e+02 2.51e+02 9.30e+02 5.40e+02 3.13e+02\n",
            " 7.46e+02 2.03e+02 2.60e+01 3.14e+02 2.39e+02 3.71e+02 2.20e+02 7.30e+02\n",
            " 7.56e+02 9.10e+01 2.93e+02 1.70e+01 7.40e+01 1.40e+01 3.17e+02 7.80e+01\n",
            " 9.24e+02 9.02e+02 8.18e+02 8.10e+01 9.39e+02 1.69e+02 4.50e+01 4.75e+02\n",
            " 9.65e+02 9.00e+04 5.45e+02 6.10e+01 2.83e+02 6.55e+02 7.14e+02 9.30e+01\n",
            " 8.72e+02 1.21e+02 3.22e+02 1.00e+00 9.76e+02 1.72e+02 2.38e+02 5.49e+02\n",
            " 2.06e+02 9.54e+02 4.44e+02 7.17e+02 2.10e+02 6.09e+02 3.08e+02 7.05e+02\n",
            " 3.06e+02 9.04e+02 4.73e+02 1.75e+02 3.50e+02 3.83e+02 4.54e+02 4.21e+02\n",
            " 7.00e+01 8.12e+02 4.42e+02 8.42e+02 4.17e+02 4.12e+02 4.59e+02 4.78e+02\n",
            " 3.35e+02 7.82e+02 7.21e+02 4.30e+02 4.29e+02 1.92e+02 2.00e+02 4.60e+02\n",
            " 7.28e+02 4.96e+02 8.16e+02 4.14e+02 5.06e+02 8.87e+02 6.13e+02 2.43e+02\n",
            " 5.69e+02 7.78e+02 6.83e+02 5.92e+02 3.19e+02 1.86e+02 8.40e+02 6.47e+02\n",
            " 1.91e+02 3.73e+02 4.37e+02 5.98e+02 7.16e+02 5.85e+02 9.82e+02 2.22e+02\n",
            " 2.19e+02 5.50e+01 9.48e+02 3.23e+02 6.91e+02 5.11e+02 9.51e+02 9.63e+02\n",
            " 2.50e+01 5.54e+02 3.51e+02 2.70e+01 8.20e+01 2.08e+02 9.13e+02 5.14e+02\n",
            " 5.51e+02 2.90e+01 1.03e+02 8.98e+02 7.43e+02 1.16e+02 1.53e+02 2.09e+02\n",
            " 3.53e+02 4.99e+02 1.73e+02 5.97e+02 8.09e+02 1.22e+02 4.11e+02 4.00e+02\n",
            " 8.01e+02 7.87e+02 2.37e+02 5.00e+01 6.43e+02 9.86e+02 9.70e+01 5.16e+02\n",
            " 8.37e+02 7.80e+02 9.61e+02 2.69e+02 2.00e+01 4.98e+02 6.00e+02 7.49e+02\n",
            " 6.42e+02 8.81e+02 7.20e+01 6.56e+02 6.01e+02 2.21e+02 2.28e+02 1.08e+02\n",
            " 9.40e+02 1.76e+02 3.30e+01 6.63e+02 3.40e+01 9.42e+02 2.59e+02 1.64e+02\n",
            " 4.58e+02 2.45e+02 6.29e+02 2.80e+01 2.88e+02 7.75e+02 7.85e+02 6.36e+02\n",
            " 9.16e+02 9.94e+02 3.09e+02 4.85e+02 9.14e+02 9.03e+02 6.08e+02 5.00e+02\n",
            " 5.40e+01 5.62e+02 8.47e+02 9.57e+02 6.88e+02 8.11e+02 2.70e+02 4.80e+01\n",
            " 3.29e+02 5.23e+02 9.21e+02 8.74e+02 9.81e+02 7.84e+02 2.80e+02 2.40e+01\n",
            " 5.18e+02 7.54e+02 8.92e+02 1.54e+02 8.60e+02 3.64e+02 3.87e+02 6.26e+02\n",
            " 1.61e+02 8.79e+02 3.90e+01 9.70e+02 1.70e+02 1.41e+02 1.60e+02 1.44e+02\n",
            " 1.43e+02 1.90e+02 3.76e+02 1.93e+02 2.46e+02 7.30e+01 6.58e+02 9.92e+02\n",
            " 2.53e+02 4.20e+02 4.04e+02 1.00e+03 4.70e+02 2.26e+02 2.40e+02 8.90e+01\n",
            " 2.34e+02 2.57e+02 8.61e+02 4.67e+02 1.57e+02 4.40e+01 6.76e+02 6.70e+01\n",
            " 5.52e+02 8.85e+02 1.02e+03 5.82e+02 6.19e+02]\n",
            "Installs\n",
            "[1.e+04 5.e+05 5.e+06 5.e+07 1.e+05 5.e+04 1.e+06 1.e+07 5.e+03 1.e+08\n",
            " 1.e+09 1.e+03 5.e+08 5.e+01 1.e+02 5.e+02 1.e+01 1.e+00 5.e+00 0.e+00\n",
            "    nan]\n",
            "Price\n",
            "[  0.     4.99   3.99   6.99   1.49   2.99   7.99   5.99   3.49   1.99\n",
            "   9.99   7.49   0.99   9.     5.49  10.    24.99  11.99  79.99  16.99\n",
            "  14.99   1.    29.99  12.99   2.49  10.99   1.5   19.99  15.99  33.99\n",
            "  74.99  39.99   3.95   4.49   1.7    8.99   2.     3.88  25.99 399.99\n",
            "  17.99 400.     3.02   1.76   4.84   4.77   1.61   2.5    1.59   6.49\n",
            "   1.29   5.    13.99 299.99 379.99  37.99  18.99 389.99  19.9    8.49\n",
            "   1.75  14.     4.85  46.99 109.99 154.99   3.08   2.59   4.8    1.96\n",
            "  19.4    3.9    4.59  15.46   3.04   4.29   2.6    3.28   4.6   28.99\n",
            "   2.95   2.9    1.97 200.    89.99   2.56  30.99   3.61 394.99   1.26\n",
            "    nan   1.2    1.04]\n"
          ]
        }
      ]
    },
    {
      "cell_type": "markdown",
      "source": [
        "## 3. ***Data Wrangling***"
      ],
      "metadata": {
        "id": "dauF4eBmngu3"
      }
    },
    {
      "cell_type": "markdown",
      "source": [
        "### Data Wrangling Code"
      ],
      "metadata": {
        "id": "bKJF3rekwFvQ"
      }
    },
    {
      "cell_type": "markdown",
      "source": [
        "Before doing the analysis we need to fill all the missing values in a data set so for filling the missing values we need to see the distribution of data so we can decide if we need to fill using mean, median, or mode for numeric data we use mean or median and for catagorical data we use mode\n",
        "\n",
        "If the data is skwed we use median for numerical data.\n",
        "We use mean if the data is normally distributed.\n",
        "\n",
        "\n",
        "Let us do the process of removing errors and combining complex data sets to make them more accessible and easier to analyze."
      ],
      "metadata": {
        "id": "e-dhzFBTHX6B"
      }
    },
    {
      "cell_type": "markdown",
      "source": [
        "**Univariate analysis:**\n",
        "\n",
        "\n",
        "Univariate analysis is the simplest form of analyzing data. Uni means one, so in other words the data has only one variable. Univariate data requires to analyze each variable separately."
      ],
      "metadata": {
        "id": "mRekIeu-H9Cq"
      }
    },
    {
      "cell_type": "code",
      "source": [
        "#checking distribution of numerical data\n",
        "# list of numerical variables\n",
        "numerical_features = [feature for feature in df4.columns if (df4[feature].dtypes != 'O')]\n",
        "print('Total number of numerical variables: ', len(numerical_features))\n",
        "\n",
        "df4[numerical_features].head(5)   # visualise the numerical variables"
      ],
      "metadata": {
        "id": "wk-9a2fpoLcV",
        "colab": {
          "base_uri": "https://localhost:8080/",
          "height": 223
        },
        "outputId": "dc4b3a0f-ceb3-4369-df9b-2594dda61310"
      },
      "execution_count": 29,
      "outputs": [
        {
          "output_type": "stream",
          "name": "stdout",
          "text": [
            "Total number of numerical variables:  5\n"
          ]
        },
        {
          "output_type": "execute_result",
          "data": {
            "text/plain": [
              "   Rating  Reviews     Size  Installs  Price\n",
              "0     4.1    159.0  19000.0   10000.0    0.0\n",
              "1     3.9    967.0  14000.0  500000.0    0.0\n",
              "2     3.9    967.0  14000.0  500000.0    0.0\n",
              "3     3.9    967.0  14000.0  500000.0    0.0\n",
              "4     3.9    967.0  14000.0  500000.0    0.0"
            ],
            "text/html": [
              "\n",
              "  <div id=\"df-a93e11f8-35d3-473b-a9b7-b3d04e278a8e\">\n",
              "    <div class=\"colab-df-container\">\n",
              "      <div>\n",
              "<style scoped>\n",
              "    .dataframe tbody tr th:only-of-type {\n",
              "        vertical-align: middle;\n",
              "    }\n",
              "\n",
              "    .dataframe tbody tr th {\n",
              "        vertical-align: top;\n",
              "    }\n",
              "\n",
              "    .dataframe thead th {\n",
              "        text-align: right;\n",
              "    }\n",
              "</style>\n",
              "<table border=\"1\" class=\"dataframe\">\n",
              "  <thead>\n",
              "    <tr style=\"text-align: right;\">\n",
              "      <th></th>\n",
              "      <th>Rating</th>\n",
              "      <th>Reviews</th>\n",
              "      <th>Size</th>\n",
              "      <th>Installs</th>\n",
              "      <th>Price</th>\n",
              "    </tr>\n",
              "  </thead>\n",
              "  <tbody>\n",
              "    <tr>\n",
              "      <th>0</th>\n",
              "      <td>4.1</td>\n",
              "      <td>159.0</td>\n",
              "      <td>19000.0</td>\n",
              "      <td>10000.0</td>\n",
              "      <td>0.0</td>\n",
              "    </tr>\n",
              "    <tr>\n",
              "      <th>1</th>\n",
              "      <td>3.9</td>\n",
              "      <td>967.0</td>\n",
              "      <td>14000.0</td>\n",
              "      <td>500000.0</td>\n",
              "      <td>0.0</td>\n",
              "    </tr>\n",
              "    <tr>\n",
              "      <th>2</th>\n",
              "      <td>3.9</td>\n",
              "      <td>967.0</td>\n",
              "      <td>14000.0</td>\n",
              "      <td>500000.0</td>\n",
              "      <td>0.0</td>\n",
              "    </tr>\n",
              "    <tr>\n",
              "      <th>3</th>\n",
              "      <td>3.9</td>\n",
              "      <td>967.0</td>\n",
              "      <td>14000.0</td>\n",
              "      <td>500000.0</td>\n",
              "      <td>0.0</td>\n",
              "    </tr>\n",
              "    <tr>\n",
              "      <th>4</th>\n",
              "      <td>3.9</td>\n",
              "      <td>967.0</td>\n",
              "      <td>14000.0</td>\n",
              "      <td>500000.0</td>\n",
              "      <td>0.0</td>\n",
              "    </tr>\n",
              "  </tbody>\n",
              "</table>\n",
              "</div>\n",
              "      <button class=\"colab-df-convert\" onclick=\"convertToInteractive('df-a93e11f8-35d3-473b-a9b7-b3d04e278a8e')\"\n",
              "              title=\"Convert this dataframe to an interactive table.\"\n",
              "              style=\"display:none;\">\n",
              "        \n",
              "  <svg xmlns=\"http://www.w3.org/2000/svg\" height=\"24px\"viewBox=\"0 0 24 24\"\n",
              "       width=\"24px\">\n",
              "    <path d=\"M0 0h24v24H0V0z\" fill=\"none\"/>\n",
              "    <path d=\"M18.56 5.44l.94 2.06.94-2.06 2.06-.94-2.06-.94-.94-2.06-.94 2.06-2.06.94zm-11 1L8.5 8.5l.94-2.06 2.06-.94-2.06-.94L8.5 2.5l-.94 2.06-2.06.94zm10 10l.94 2.06.94-2.06 2.06-.94-2.06-.94-.94-2.06-.94 2.06-2.06.94z\"/><path d=\"M17.41 7.96l-1.37-1.37c-.4-.4-.92-.59-1.43-.59-.52 0-1.04.2-1.43.59L10.3 9.45l-7.72 7.72c-.78.78-.78 2.05 0 2.83L4 21.41c.39.39.9.59 1.41.59.51 0 1.02-.2 1.41-.59l7.78-7.78 2.81-2.81c.8-.78.8-2.07 0-2.86zM5.41 20L4 18.59l7.72-7.72 1.47 1.35L5.41 20z\"/>\n",
              "  </svg>\n",
              "      </button>\n",
              "      \n",
              "  <style>\n",
              "    .colab-df-container {\n",
              "      display:flex;\n",
              "      flex-wrap:wrap;\n",
              "      gap: 12px;\n",
              "    }\n",
              "\n",
              "    .colab-df-convert {\n",
              "      background-color: #E8F0FE;\n",
              "      border: none;\n",
              "      border-radius: 50%;\n",
              "      cursor: pointer;\n",
              "      display: none;\n",
              "      fill: #1967D2;\n",
              "      height: 32px;\n",
              "      padding: 0 0 0 0;\n",
              "      width: 32px;\n",
              "    }\n",
              "\n",
              "    .colab-df-convert:hover {\n",
              "      background-color: #E2EBFA;\n",
              "      box-shadow: 0px 1px 2px rgba(60, 64, 67, 0.3), 0px 1px 3px 1px rgba(60, 64, 67, 0.15);\n",
              "      fill: #174EA6;\n",
              "    }\n",
              "\n",
              "    [theme=dark] .colab-df-convert {\n",
              "      background-color: #3B4455;\n",
              "      fill: #D2E3FC;\n",
              "    }\n",
              "\n",
              "    [theme=dark] .colab-df-convert:hover {\n",
              "      background-color: #434B5C;\n",
              "      box-shadow: 0px 1px 3px 1px rgba(0, 0, 0, 0.15);\n",
              "      filter: drop-shadow(0px 1px 2px rgba(0, 0, 0, 0.3));\n",
              "      fill: #FFFFFF;\n",
              "    }\n",
              "  </style>\n",
              "\n",
              "      <script>\n",
              "        const buttonEl =\n",
              "          document.querySelector('#df-a93e11f8-35d3-473b-a9b7-b3d04e278a8e button.colab-df-convert');\n",
              "        buttonEl.style.display =\n",
              "          google.colab.kernel.accessAllowed ? 'block' : 'none';\n",
              "\n",
              "        async function convertToInteractive(key) {\n",
              "          const element = document.querySelector('#df-a93e11f8-35d3-473b-a9b7-b3d04e278a8e');\n",
              "          const dataTable =\n",
              "            await google.colab.kernel.invokeFunction('convertToInteractive',\n",
              "                                                     [key], {});\n",
              "          if (!dataTable) return;\n",
              "\n",
              "          const docLinkHtml = 'Like what you see? Visit the ' +\n",
              "            '<a target=\"_blank\" href=https://colab.research.google.com/notebooks/data_table.ipynb>data table notebook</a>'\n",
              "            + ' to learn more about interactive tables.';\n",
              "          element.innerHTML = '';\n",
              "          dataTable['output_type'] = 'display_data';\n",
              "          await google.colab.output.renderOutput(dataTable, element);\n",
              "          const docLink = document.createElement('div');\n",
              "          docLink.innerHTML = docLinkHtml;\n",
              "          element.appendChild(docLink);\n",
              "        }\n",
              "      </script>\n",
              "    </div>\n",
              "  </div>\n",
              "  "
            ]
          },
          "metadata": {},
          "execution_count": 29
        }
      ]
    },
    {
      "cell_type": "code",
      "source": [
        "#plot univariate distribution of continues observations\n",
        "plt.figure(figsize=(20,60), facecolor='yellow')     \n",
        "plotnumber =1\n",
        "for i in numerical_features:         #using for-loop to plot the grap\n",
        "    ax = plt.subplot(12,3,plotnumber)\n",
        "    sns.distplot(df4[i])            #ploting distribution-plot to observe the distribution \n",
        "    plt.xlabel(i)\n",
        "    plotnumber+=1\n",
        "plt.show()"
      ],
      "metadata": {
        "colab": {
          "base_uri": "https://localhost:8080/",
          "height": 772
        },
        "id": "GjyUT29A4jer",
        "outputId": "149cddea-7193-4f95-90a4-eb4db171f1e0"
      },
      "execution_count": 30,
      "outputs": [
        {
          "output_type": "stream",
          "name": "stderr",
          "text": [
            "/usr/local/lib/python3.8/dist-packages/seaborn/distributions.py:2619: FutureWarning: `distplot` is a deprecated function and will be removed in a future version. Please adapt your code to use either `displot` (a figure-level function with similar flexibility) or `histplot` (an axes-level function for histograms).\n",
            "  warnings.warn(msg, FutureWarning)\n",
            "/usr/local/lib/python3.8/dist-packages/seaborn/distributions.py:2619: FutureWarning: `distplot` is a deprecated function and will be removed in a future version. Please adapt your code to use either `displot` (a figure-level function with similar flexibility) or `histplot` (an axes-level function for histograms).\n",
            "  warnings.warn(msg, FutureWarning)\n",
            "/usr/local/lib/python3.8/dist-packages/seaborn/distributions.py:2619: FutureWarning: `distplot` is a deprecated function and will be removed in a future version. Please adapt your code to use either `displot` (a figure-level function with similar flexibility) or `histplot` (an axes-level function for histograms).\n",
            "  warnings.warn(msg, FutureWarning)\n",
            "/usr/local/lib/python3.8/dist-packages/seaborn/distributions.py:2619: FutureWarning: `distplot` is a deprecated function and will be removed in a future version. Please adapt your code to use either `displot` (a figure-level function with similar flexibility) or `histplot` (an axes-level function for histograms).\n",
            "  warnings.warn(msg, FutureWarning)\n",
            "/usr/local/lib/python3.8/dist-packages/seaborn/distributions.py:2619: FutureWarning: `distplot` is a deprecated function and will be removed in a future version. Please adapt your code to use either `displot` (a figure-level function with similar flexibility) or `histplot` (an axes-level function for histograms).\n",
            "  warnings.warn(msg, FutureWarning)\n"
          ]
        },
        {
          "output_type": "display_data",
          "data": {
            "text/plain": [
              "<Figure size 1440x4320 with 5 Axes>"
            ],
            "image/png": "[encoded data removed]"
          },
          "metadata": {}
        }
      ]
    },
    {
      "cell_type": "code",
      "source": [
        "#box plot to observe distribution of data\n",
        "plt.figure(figsize=(25,25))     #fig size setting\n",
        "plt.subplot(3,3,1)\n",
        "sns.boxplot(x='Rating',data=df4)\n",
        "plt.title(\"plot 1\")\n",
        "plt.subplot(3,3,2)\n",
        "sns.boxplot(x='Reviews',data=df4)\n",
        "plt.title(\"plot no 2\")\n",
        "plt.subplot(3,3,3)\n",
        "sns.boxplot(x='Size',data=df4)\n",
        "plt.title(\"plot no 3\")\n",
        "\n",
        "\n",
        "\n"
      ],
      "metadata": {
        "colab": {
          "base_uri": "https://localhost:8080/",
          "height": 476
        },
        "id": "INNZuTgF5Pjq",
        "outputId": "5eeadbda-49cb-49ff-9c52-570a884745aa"
      },
      "execution_count": 31,
      "outputs": [
        {
          "output_type": "execute_result",
          "data": {
            "text/plain": [
              "Text(0.5, 1.0, 'plot no 3')"
            ]
          },
          "metadata": {},
          "execution_count": 31
        },
        {
          "output_type": "display_data",
          "data": {
            "text/plain": [
              "<Figure size 1800x1800 with 3 Axes>"
            ],
            "image/png": "[encoded data removed]"
          },
          "metadata": {
            "needs_background": "light"
          }
        }
      ]
    },
    {
      "cell_type": "code",
      "source": [
        "plt.figure(figsize=(25,25))     #fig size setting\n",
        "plt.subplot(3,4,1)\n",
        "sns.boxplot(x='Price',data=df4)\n",
        "plt.title(\"plot no 4\")\n",
        "plt.subplot(3,3,2)\n",
        "sns.boxplot(x='Installs',data=df4)\n",
        "plt.title(\"plot no 5\")"
      ],
      "metadata": {
        "colab": {
          "base_uri": "https://localhost:8080/",
          "height": 495
        },
        "id": "Fx8WclSV5PgL",
        "outputId": "72fcdfb3-6d7b-41af-c985-7dc8926eeb96"
      },
      "execution_count": 32,
      "outputs": [
        {
          "output_type": "execute_result",
          "data": {
            "text/plain": [
              "Text(0.5, 1.0, 'plot no 5')"
            ]
          },
          "metadata": {},
          "execution_count": 32
        },
        {
          "output_type": "display_data",
          "data": {
            "text/plain": [
              "<Figure size 1800x1800 with 2 Axes>"
            ],
            "image/png": "[encoded data removed]"
          },
          "metadata": {
            "needs_background": "light"
          }
        }
      ]
    },
    {
      "cell_type": "code",
      "source": [
        "for i in numerical_features:         #using for loop\n",
        " print(i,\"skewness \",df4[i].skew())   #using skew function to see the skwness values"
      ],
      "metadata": {
        "colab": {
          "base_uri": "https://localhost:8080/"
        },
        "id": "AZruYvm38WhV",
        "outputId": "32dd9479-f464-4cbb-fe39-9ee177c3fb32"
      },
      "execution_count": 33,
      "outputs": [
        {
          "output_type": "stream",
          "name": "stdout",
          "text": [
            "Rating skewness  -1.133409803485152\n",
            "Reviews skewness  6.758296342557415\n",
            "Size skewness  0.6926809631278383\n",
            "Installs skewness  4.193161004579155\n",
            "Price skewness  71.71377344257624\n"
          ]
        }
      ]
    },
    {
      "cell_type": "markdown",
      "source": [
        "as per the plot we can see that the data is skwed along with the skwness values of perticular column.\n",
        "\n",
        "this are all moderate to highly skwed so will use median to fill the null values also there are outliers in dataset"
      ],
      "metadata": {
        "id": "dDMUpzJY88c7"
      }
    },
    {
      "cell_type": "code",
      "source": [
        "df4.describe(include = 'all')  #describing all data using include= all"
      ],
      "metadata": {
        "colab": {
          "base_uri": "https://localhost:8080/",
          "height": 473
        },
        "id": "pqqudped8Wd9",
        "outputId": "d6570190-457a-4bdc-8646-b103a94f5b07"
      },
      "execution_count": 34,
      "outputs": [
        {
          "output_type": "execute_result",
          "data": {
            "text/plain": [
              "                                                      App Category  \\\n",
              "count                                              134709   131970   \n",
              "unique                                               9714       34   \n",
              "top     CBS Sports App - Scores, News, Stats & Watch Live     GAME   \n",
              "freq                                                 2560    29311   \n",
              "mean                                                  NaN      NaN   \n",
              "std                                                   NaN      NaN   \n",
              "min                                                   NaN      NaN   \n",
              "25%                                                   NaN      NaN   \n",
              "50%                                                   NaN      NaN   \n",
              "75%                                                   NaN      NaN   \n",
              "max                                                   NaN      NaN   \n",
              "\n",
              "               Rating       Reviews           Size      Installs    Type  \\\n",
              "count   130457.000000  1.319700e+05   83564.000000  1.319690e+05  131969   \n",
              "unique            NaN           NaN            NaN           NaN       3   \n",
              "top               NaN           NaN            NaN           NaN    Free   \n",
              "freq              NaN           NaN            NaN           NaN  129642   \n",
              "mean         4.313523  2.108074e+06   32060.271802  6.860385e+07     NaN   \n",
              "std          0.311306  6.155273e+06   28628.500441  1.843533e+08     NaN   \n",
              "min          1.000000  0.000000e+00       1.000000  0.000000e+00     NaN   \n",
              "25%          4.200000  1.987000e+04   10000.000000  1.000000e+06     NaN   \n",
              "50%          4.400000  1.366260e+05   24000.000000  1.000000e+07     NaN   \n",
              "75%          4.500000  1.480189e+06   52000.000000  5.000000e+07     NaN   \n",
              "max         19.000000  7.815831e+07  100000.000000  1.000000e+09     NaN   \n",
              "\n",
              "                Price Content Rating  Genres   Last Updated  \\\n",
              "count   131969.000000         131969  131970         131970   \n",
              "unique            NaN              6     120           1378   \n",
              "top               NaN       Everyone  Sports  July 31, 2018   \n",
              "freq              NaN          97181   11240          10278   \n",
              "mean         0.201739            NaN     NaN            NaN   \n",
              "std          4.816079            NaN     NaN            NaN   \n",
              "min          0.000000            NaN     NaN            NaN   \n",
              "25%          0.000000            NaN     NaN            NaN   \n",
              "50%          0.000000            NaN     NaN            NaN   \n",
              "75%          0.000000            NaN     NaN            NaN   \n",
              "max        400.000000            NaN     NaN            NaN   \n",
              "\n",
              "               Current Ver         Android Ver  \n",
              "count               131962              131967  \n",
              "unique                2832                  33  \n",
              "top     Varies with device  Varies with device  \n",
              "freq                 40946               35582  \n",
              "mean                   NaN                 NaN  \n",
              "std                    NaN                 NaN  \n",
              "min                    NaN                 NaN  \n",
              "25%                    NaN                 NaN  \n",
              "50%                    NaN                 NaN  \n",
              "75%                    NaN                 NaN  \n",
              "max                    NaN                 NaN  "
            ],
            "text/html": [
              "\n",
              "  <div id=\"df-a916cbe3-6e35-4493-b060-4f4ad4cd8bdd\">\n",
              "    <div class=\"colab-df-container\">\n",
              "      <div>\n",
              "<style scoped>\n",
              "    .dataframe tbody tr th:only-of-type {\n",
              "        vertical-align: middle;\n",
              "    }\n",
              "\n",
              "    .dataframe tbody tr th {\n",
              "        vertical-align: top;\n",
              "    }\n",
              "\n",
              "    .dataframe thead th {\n",
              "        text-align: right;\n",
              "    }\n",
              "</style>\n",
              "<table border=\"1\" class=\"dataframe\">\n",
              "  <thead>\n",
              "    <tr style=\"text-align: right;\">\n",
              "      <th></th>\n",
              "      <th>App</th>\n",
              "      <th>Category</th>\n",
              "      <th>Rating</th>\n",
              "      <th>Reviews</th>\n",
              "      <th>Size</th>\n",
              "      <th>Installs</th>\n",
              "      <th>Type</th>\n",
              "      <th>Price</th>\n",
              "      <th>Content Rating</th>\n",
              "      <th>Genres</th>\n",
              "      <th>Last Updated</th>\n",
              "      <th>Current Ver</th>\n",
              "      <th>Android Ver</th>\n",
              "    </tr>\n",
              "  </thead>\n",
              "  <tbody>\n",
              "    <tr>\n",
              "      <th>count</th>\n",
              "      <td>134709</td>\n",
              "      <td>131970</td>\n",
              "      <td>130457.000000</td>\n",
              "      <td>1.319700e+05</td>\n",
              "      <td>83564.000000</td>\n",
              "      <td>1.319690e+05</td>\n",
              "      <td>131969</td>\n",
              "      <td>131969.000000</td>\n",
              "      <td>131969</td>\n",
              "      <td>131970</td>\n",
              "      <td>131970</td>\n",
              "      <td>131962</td>\n",
              "      <td>131967</td>\n",
              "    </tr>\n",
              "    <tr>\n",
              "      <th>unique</th>\n",
              "      <td>9714</td>\n",
              "      <td>34</td>\n",
              "      <td>NaN</td>\n",
              "      <td>NaN</td>\n",
              "      <td>NaN</td>\n",
              "      <td>NaN</td>\n",
              "      <td>3</td>\n",
              "      <td>NaN</td>\n",
              "      <td>6</td>\n",
              "      <td>120</td>\n",
              "      <td>1378</td>\n",
              "      <td>2832</td>\n",
              "      <td>33</td>\n",
              "    </tr>\n",
              "    <tr>\n",
              "      <th>top</th>\n",
              "      <td>CBS Sports App - Scores, News, Stats &amp; Watch Live</td>\n",
              "      <td>GAME</td>\n",
              "      <td>NaN</td>\n",
              "      <td>NaN</td>\n",
              "      <td>NaN</td>\n",
              "      <td>NaN</td>\n",
              "      <td>Free</td>\n",
              "      <td>NaN</td>\n",
              "      <td>Everyone</td>\n",
              "      <td>Sports</td>\n",
              "      <td>July 31, 2018</td>\n",
              "      <td>Varies with device</td>\n",
              "      <td>Varies with device</td>\n",
              "    </tr>\n",
              "    <tr>\n",
              "      <th>freq</th>\n",
              "      <td>2560</td>\n",
              "      <td>29311</td>\n",
              "      <td>NaN</td>\n",
              "      <td>NaN</td>\n",
              "      <td>NaN</td>\n",
              "      <td>NaN</td>\n",
              "      <td>129642</td>\n",
              "      <td>NaN</td>\n",
              "      <td>97181</td>\n",
              "      <td>11240</td>\n",
              "      <td>10278</td>\n",
              "      <td>40946</td>\n",
              "      <td>35582</td>\n",
              "    </tr>\n",
              "    <tr>\n",
              "      <th>mean</th>\n",
              "      <td>NaN</td>\n",
              "      <td>NaN</td>\n",
              "      <td>4.313523</td>\n",
              "      <td>2.108074e+06</td>\n",
              "      <td>32060.271802</td>\n",
              "      <td>6.860385e+07</td>\n",
              "      <td>NaN</td>\n",
              "      <td>0.201739</td>\n",
              "      <td>NaN</td>\n",
              "      <td>NaN</td>\n",
              "      <td>NaN</td>\n",
              "      <td>NaN</td>\n",
              "      <td>NaN</td>\n",
              "    </tr>\n",
              "    <tr>\n",
              "      <th>std</th>\n",
              "      <td>NaN</td>\n",
              "      <td>NaN</td>\n",
              "      <td>0.311306</td>\n",
              "      <td>6.155273e+06</td>\n",
              "      <td>28628.500441</td>\n",
              "      <td>1.843533e+08</td>\n",
              "      <td>NaN</td>\n",
              "      <td>4.816079</td>\n",
              "      <td>NaN</td>\n",
              "      <td>NaN</td>\n",
              "      <td>NaN</td>\n",
              "      <td>NaN</td>\n",
              "      <td>NaN</td>\n",
              "    </tr>\n",
              "    <tr>\n",
              "      <th>min</th>\n",
              "      <td>NaN</td>\n",
              "      <td>NaN</td>\n",
              "      <td>1.000000</td>\n",
              "      <td>0.000000e+00</td>\n",
              "      <td>1.000000</td>\n",
              "      <td>0.000000e+00</td>\n",
              "      <td>NaN</td>\n",
              "      <td>0.000000</td>\n",
              "      <td>NaN</td>\n",
              "      <td>NaN</td>\n",
              "      <td>NaN</td>\n",
              "      <td>NaN</td>\n",
              "      <td>NaN</td>\n",
              "    </tr>\n",
              "    <tr>\n",
              "      <th>25%</th>\n",
              "      <td>NaN</td>\n",
              "      <td>NaN</td>\n",
              "      <td>4.200000</td>\n",
              "      <td>1.987000e+04</td>\n",
              "      <td>10000.000000</td>\n",
              "      <td>1.000000e+06</td>\n",
              "      <td>NaN</td>\n",
              "      <td>0.000000</td>\n",
              "      <td>NaN</td>\n",
              "      <td>NaN</td>\n",
              "      <td>NaN</td>\n",
              "      <td>NaN</td>\n",
              "      <td>NaN</td>\n",
              "    </tr>\n",
              "    <tr>\n",
              "      <th>50%</th>\n",
              "      <td>NaN</td>\n",
              "      <td>NaN</td>\n",
              "      <td>4.400000</td>\n",
              "      <td>1.366260e+05</td>\n",
              "      <td>24000.000000</td>\n",
              "      <td>1.000000e+07</td>\n",
              "      <td>NaN</td>\n",
              "      <td>0.000000</td>\n",
              "      <td>NaN</td>\n",
              "      <td>NaN</td>\n",
              "      <td>NaN</td>\n",
              "      <td>NaN</td>\n",
              "      <td>NaN</td>\n",
              "    </tr>\n",
              "    <tr>\n",
              "      <th>75%</th>\n",
              "      <td>NaN</td>\n",
              "      <td>NaN</td>\n",
              "      <td>4.500000</td>\n",
              "      <td>1.480189e+06</td>\n",
              "      <td>52000.000000</td>\n",
              "      <td>5.000000e+07</td>\n",
              "      <td>NaN</td>\n",
              "      <td>0.000000</td>\n",
              "      <td>NaN</td>\n",
              "      <td>NaN</td>\n",
              "      <td>NaN</td>\n",
              "      <td>NaN</td>\n",
              "      <td>NaN</td>\n",
              "    </tr>\n",
              "    <tr>\n",
              "      <th>max</th>\n",
              "      <td>NaN</td>\n",
              "      <td>NaN</td>\n",
              "      <td>19.000000</td>\n",
              "      <td>7.815831e+07</td>\n",
              "      <td>100000.000000</td>\n",
              "      <td>1.000000e+09</td>\n",
              "      <td>NaN</td>\n",
              "      <td>400.000000</td>\n",
              "      <td>NaN</td>\n",
              "      <td>NaN</td>\n",
              "      <td>NaN</td>\n",
              "      <td>NaN</td>\n",
              "      <td>NaN</td>\n",
              "    </tr>\n",
              "  </tbody>\n",
              "</table>\n",
              "</div>\n",
              "      <button class=\"colab-df-convert\" onclick=\"convertToInteractive('df-a916cbe3-6e35-4493-b060-4f4ad4cd8bdd')\"\n",
              "              title=\"Convert this dataframe to an interactive table.\"\n",
              "              style=\"display:none;\">\n",
              "        \n",
              "  <svg xmlns=\"http://www.w3.org/2000/svg\" height=\"24px\"viewBox=\"0 0 24 24\"\n",
              "       width=\"24px\">\n",
              "    <path d=\"M0 0h24v24H0V0z\" fill=\"none\"/>\n",
              "    <path d=\"M18.56 5.44l.94 2.06.94-2.06 2.06-.94-2.06-.94-.94-2.06-.94 2.06-2.06.94zm-11 1L8.5 8.5l.94-2.06 2.06-.94-2.06-.94L8.5 2.5l-.94 2.06-2.06.94zm10 10l.94 2.06.94-2.06 2.06-.94-2.06-.94-.94-2.06-.94 2.06-2.06.94z\"/><path d=\"M17.41 7.96l-1.37-1.37c-.4-.4-.92-.59-1.43-.59-.52 0-1.04.2-1.43.59L10.3 9.45l-7.72 7.72c-.78.78-.78 2.05 0 2.83L4 21.41c.39.39.9.59 1.41.59.51 0 1.02-.2 1.41-.59l7.78-7.78 2.81-2.81c.8-.78.8-2.07 0-2.86zM5.41 20L4 18.59l7.72-7.72 1.47 1.35L5.41 20z\"/>\n",
              "  </svg>\n",
              "      </button>\n",
              "      \n",
              "  <style>\n",
              "    .colab-df-container {\n",
              "      display:flex;\n",
              "      flex-wrap:wrap;\n",
              "      gap: 12px;\n",
              "    }\n",
              "\n",
              "    .colab-df-convert {\n",
              "      background-color: #E8F0FE;\n",
              "      border: none;\n",
              "      border-radius: 50%;\n",
              "      cursor: pointer;\n",
              "      display: none;\n",
              "      fill: #1967D2;\n",
              "      height: 32px;\n",
              "      padding: 0 0 0 0;\n",
              "      width: 32px;\n",
              "    }\n",
              "\n",
              "    .colab-df-convert:hover {\n",
              "      background-color: #E2EBFA;\n",
              "      box-shadow: 0px 1px 2px rgba(60, 64, 67, 0.3), 0px 1px 3px 1px rgba(60, 64, 67, 0.15);\n",
              "      fill: #174EA6;\n",
              "    }\n",
              "\n",
              "    [theme=dark] .colab-df-convert {\n",
              "      background-color: #3B4455;\n",
              "      fill: #D2E3FC;\n",
              "    }\n",
              "\n",
              "    [theme=dark] .colab-df-convert:hover {\n",
              "      background-color: #434B5C;\n",
              "      box-shadow: 0px 1px 3px 1px rgba(0, 0, 0, 0.15);\n",
              "      filter: drop-shadow(0px 1px 2px rgba(0, 0, 0, 0.3));\n",
              "      fill: #FFFFFF;\n",
              "    }\n",
              "  </style>\n",
              "\n",
              "      <script>\n",
              "        const buttonEl =\n",
              "          document.querySelector('#df-a916cbe3-6e35-4493-b060-4f4ad4cd8bdd button.colab-df-convert');\n",
              "        buttonEl.style.display =\n",
              "          google.colab.kernel.accessAllowed ? 'block' : 'none';\n",
              "\n",
              "        async function convertToInteractive(key) {\n",
              "          const element = document.querySelector('#df-a916cbe3-6e35-4493-b060-4f4ad4cd8bdd');\n",
              "          const dataTable =\n",
              "            await google.colab.kernel.invokeFunction('convertToInteractive',\n",
              "                                                     [key], {});\n",
              "          if (!dataTable) return;\n",
              "\n",
              "          const docLinkHtml = 'Like what you see? Visit the ' +\n",
              "            '<a target=\"_blank\" href=https://colab.research.google.com/notebooks/data_table.ipynb>data table notebook</a>'\n",
              "            + ' to learn more about interactive tables.';\n",
              "          element.innerHTML = '';\n",
              "          dataTable['output_type'] = 'display_data';\n",
              "          await google.colab.output.renderOutput(dataTable, element);\n",
              "          const docLink = document.createElement('div');\n",
              "          docLink.innerHTML = docLinkHtml;\n",
              "          element.appendChild(docLink);\n",
              "        }\n",
              "      </script>\n",
              "    </div>\n",
              "  </div>\n",
              "  "
            ]
          },
          "metadata": {},
          "execution_count": 34
        }
      ]
    },
    {
      "cell_type": "code",
      "source": [
        "#filling null values for numeric feature\n",
        "for i in numerical_features:                         \n",
        "  df4[i].fillna(df4[i].median(), inplace=True)       #using fillna function to fill null values\n",
        "df4"
      ],
      "metadata": {
        "colab": {
          "base_uri": "https://localhost:8080/",
          "height": 572
        },
        "id": "zF_kOgX95Pdl",
        "outputId": "6be80300-87e5-43be-de04-ad4df4131e1a"
      },
      "execution_count": 35,
      "outputs": [
        {
          "output_type": "execute_result",
          "data": {
            "text/plain": [
              "                                                   App        Category  \\\n",
              "0       Photo Editor & Candy Camera & Grid & ScrapBook  ART_AND_DESIGN   \n",
              "1                                  Coloring book moana  ART_AND_DESIGN   \n",
              "2                                  Coloring book moana  ART_AND_DESIGN   \n",
              "3                                  Coloring book moana  ART_AND_DESIGN   \n",
              "4                                  Coloring book moana  ART_AND_DESIGN   \n",
              "...                                                ...             ...   \n",
              "134705                  Home Street – Home Design Game             NaN   \n",
              "134706                  Home Street – Home Design Game             NaN   \n",
              "134707                  Home Street – Home Design Game             NaN   \n",
              "134708                  Home Street – Home Design Game             NaN   \n",
              "134709                  Home Street – Home Design Game             NaN   \n",
              "\n",
              "        Rating   Reviews     Size    Installs  Type  Price Content Rating  \\\n",
              "0          4.1     159.0  19000.0     10000.0  Free    0.0       Everyone   \n",
              "1          3.9     967.0  14000.0    500000.0  Free    0.0       Everyone   \n",
              "2          3.9     967.0  14000.0    500000.0  Free    0.0       Everyone   \n",
              "3          3.9     967.0  14000.0    500000.0  Free    0.0       Everyone   \n",
              "4          3.9     967.0  14000.0    500000.0  Free    0.0       Everyone   \n",
              "...        ...       ...      ...         ...   ...    ...            ...   \n",
              "134705     4.4  136626.0  24000.0  10000000.0   NaN    0.0            NaN   \n",
              "134706     4.4  136626.0  24000.0  10000000.0   NaN    0.0            NaN   \n",
              "134707     4.4  136626.0  24000.0  10000000.0   NaN    0.0            NaN   \n",
              "134708     4.4  136626.0  24000.0  10000000.0   NaN    0.0            NaN   \n",
              "134709     4.4  136626.0  24000.0  10000000.0   NaN    0.0            NaN   \n",
              "\n",
              "                           Genres      Last Updated Current Ver   Android Ver  \n",
              "0                    Art & Design   January 7, 2018       1.0.0  4.0.3 and up  \n",
              "1       Art & Design;Pretend Play  January 15, 2018       2.0.0  4.0.3 and up  \n",
              "2       Art & Design;Pretend Play  January 15, 2018       2.0.0  4.0.3 and up  \n",
              "3       Art & Design;Pretend Play  January 15, 2018       2.0.0  4.0.3 and up  \n",
              "4       Art & Design;Pretend Play  January 15, 2018       2.0.0  4.0.3 and up  \n",
              "...                           ...               ...         ...           ...  \n",
              "134705                        NaN               NaN         NaN           NaN  \n",
              "134706                        NaN               NaN         NaN           NaN  \n",
              "134707                        NaN               NaN         NaN           NaN  \n",
              "134708                        NaN               NaN         NaN           NaN  \n",
              "134709                        NaN               NaN         NaN           NaN  \n",
              "\n",
              "[134709 rows x 13 columns]"
            ],
            "text/html": [
              "\n",
              "  <div id=\"df-5ce04916-4951-4a58-94a9-2de5c00276d0\">\n",
              "    <div class=\"colab-df-container\">\n",
              "      <div>\n",
              "<style scoped>\n",
              "    .dataframe tbody tr th:only-of-type {\n",
              "        vertical-align: middle;\n",
              "    }\n",
              "\n",
              "    .dataframe tbody tr th {\n",
              "        vertical-align: top;\n",
              "    }\n",
              "\n",
              "    .dataframe thead th {\n",
              "        text-align: right;\n",
              "    }\n",
              "</style>\n",
              "<table border=\"1\" class=\"dataframe\">\n",
              "  <thead>\n",
              "    <tr style=\"text-align: right;\">\n",
              "      <th></th>\n",
              "      <th>App</th>\n",
              "      <th>Category</th>\n",
              "      <th>Rating</th>\n",
              "      <th>Reviews</th>\n",
              "      <th>Size</th>\n",
              "      <th>Installs</th>\n",
              "      <th>Type</th>\n",
              "      <th>Price</th>\n",
              "      <th>Content Rating</th>\n",
              "      <th>Genres</th>\n",
              "      <th>Last Updated</th>\n",
              "      <th>Current Ver</th>\n",
              "      <th>Android Ver</th>\n",
              "    </tr>\n",
              "  </thead>\n",
              "  <tbody>\n",
              "    <tr>\n",
              "      <th>0</th>\n",
              "      <td>Photo Editor &amp; Candy Camera &amp; Grid &amp; ScrapBook</td>\n",
              "      <td>ART_AND_DESIGN</td>\n",
              "      <td>4.1</td>\n",
              "      <td>159.0</td>\n",
              "      <td>19000.0</td>\n",
              "      <td>10000.0</td>\n",
              "      <td>Free</td>\n",
              "      <td>0.0</td>\n",
              "      <td>Everyone</td>\n",
              "      <td>Art &amp; Design</td>\n",
              "      <td>January 7, 2018</td>\n",
              "      <td>1.0.0</td>\n",
              "      <td>4.0.3 and up</td>\n",
              "    </tr>\n",
              "    <tr>\n",
              "      <th>1</th>\n",
              "      <td>Coloring book moana</td>\n",
              "      <td>ART_AND_DESIGN</td>\n",
              "      <td>3.9</td>\n",
              "      <td>967.0</td>\n",
              "      <td>14000.0</td>\n",
              "      <td>500000.0</td>\n",
              "      <td>Free</td>\n",
              "      <td>0.0</td>\n",
              "      <td>Everyone</td>\n",
              "      <td>Art &amp; Design;Pretend Play</td>\n",
              "      <td>January 15, 2018</td>\n",
              "      <td>2.0.0</td>\n",
              "      <td>4.0.3 and up</td>\n",
              "    </tr>\n",
              "    <tr>\n",
              "      <th>2</th>\n",
              "      <td>Coloring book moana</td>\n",
              "      <td>ART_AND_DESIGN</td>\n",
              "      <td>3.9</td>\n",
              "      <td>967.0</td>\n",
              "      <td>14000.0</td>\n",
              "      <td>500000.0</td>\n",
              "      <td>Free</td>\n",
              "      <td>0.0</td>\n",
              "      <td>Everyone</td>\n",
              "      <td>Art &amp; Design;Pretend Play</td>\n",
              "      <td>January 15, 2018</td>\n",
              "      <td>2.0.0</td>\n",
              "      <td>4.0.3 and up</td>\n",
              "    </tr>\n",
              "    <tr>\n",
              "      <th>3</th>\n",
              "      <td>Coloring book moana</td>\n",
              "      <td>ART_AND_DESIGN</td>\n",
              "      <td>3.9</td>\n",
              "      <td>967.0</td>\n",
              "      <td>14000.0</td>\n",
              "      <td>500000.0</td>\n",
              "      <td>Free</td>\n",
              "      <td>0.0</td>\n",
              "      <td>Everyone</td>\n",
              "      <td>Art &amp; Design;Pretend Play</td>\n",
              "      <td>January 15, 2018</td>\n",
              "      <td>2.0.0</td>\n",
              "      <td>4.0.3 and up</td>\n",
              "    </tr>\n",
              "    <tr>\n",
              "      <th>4</th>\n",
              "      <td>Coloring book moana</td>\n",
              "      <td>ART_AND_DESIGN</td>\n",
              "      <td>3.9</td>\n",
              "      <td>967.0</td>\n",
              "      <td>14000.0</td>\n",
              "      <td>500000.0</td>\n",
              "      <td>Free</td>\n",
              "      <td>0.0</td>\n",
              "      <td>Everyone</td>\n",
              "      <td>Art &amp; Design;Pretend Play</td>\n",
              "      <td>January 15, 2018</td>\n",
              "      <td>2.0.0</td>\n",
              "      <td>4.0.3 and up</td>\n",
              "    </tr>\n",
              "    <tr>\n",
              "      <th>...</th>\n",
              "      <td>...</td>\n",
              "      <td>...</td>\n",
              "      <td>...</td>\n",
              "      <td>...</td>\n",
              "      <td>...</td>\n",
              "      <td>...</td>\n",
              "      <td>...</td>\n",
              "      <td>...</td>\n",
              "      <td>...</td>\n",
              "      <td>...</td>\n",
              "      <td>...</td>\n",
              "      <td>...</td>\n",
              "      <td>...</td>\n",
              "    </tr>\n",
              "    <tr>\n",
              "      <th>134705</th>\n",
              "      <td>Home Street – Home Design Game</td>\n",
              "      <td>NaN</td>\n",
              "      <td>4.4</td>\n",
              "      <td>136626.0</td>\n",
              "      <td>24000.0</td>\n",
              "      <td>10000000.0</td>\n",
              "      <td>NaN</td>\n",
              "      <td>0.0</td>\n",
              "      <td>NaN</td>\n",
              "      <td>NaN</td>\n",
              "      <td>NaN</td>\n",
              "      <td>NaN</td>\n",
              "      <td>NaN</td>\n",
              "    </tr>\n",
              "    <tr>\n",
              "      <th>134706</th>\n",
              "      <td>Home Street – Home Design Game</td>\n",
              "      <td>NaN</td>\n",
              "      <td>4.4</td>\n",
              "      <td>136626.0</td>\n",
              "      <td>24000.0</td>\n",
              "      <td>10000000.0</td>\n",
              "      <td>NaN</td>\n",
              "      <td>0.0</td>\n",
              "      <td>NaN</td>\n",
              "      <td>NaN</td>\n",
              "      <td>NaN</td>\n",
              "      <td>NaN</td>\n",
              "      <td>NaN</td>\n",
              "    </tr>\n",
              "    <tr>\n",
              "      <th>134707</th>\n",
              "      <td>Home Street – Home Design Game</td>\n",
              "      <td>NaN</td>\n",
              "      <td>4.4</td>\n",
              "      <td>136626.0</td>\n",
              "      <td>24000.0</td>\n",
              "      <td>10000000.0</td>\n",
              "      <td>NaN</td>\n",
              "      <td>0.0</td>\n",
              "      <td>NaN</td>\n",
              "      <td>NaN</td>\n",
              "      <td>NaN</td>\n",
              "      <td>NaN</td>\n",
              "      <td>NaN</td>\n",
              "    </tr>\n",
              "    <tr>\n",
              "      <th>134708</th>\n",
              "      <td>Home Street – Home Design Game</td>\n",
              "      <td>NaN</td>\n",
              "      <td>4.4</td>\n",
              "      <td>136626.0</td>\n",
              "      <td>24000.0</td>\n",
              "      <td>10000000.0</td>\n",
              "      <td>NaN</td>\n",
              "      <td>0.0</td>\n",
              "      <td>NaN</td>\n",
              "      <td>NaN</td>\n",
              "      <td>NaN</td>\n",
              "      <td>NaN</td>\n",
              "      <td>NaN</td>\n",
              "    </tr>\n",
              "    <tr>\n",
              "      <th>134709</th>\n",
              "      <td>Home Street – Home Design Game</td>\n",
              "      <td>NaN</td>\n",
              "      <td>4.4</td>\n",
              "      <td>136626.0</td>\n",
              "      <td>24000.0</td>\n",
              "      <td>10000000.0</td>\n",
              "      <td>NaN</td>\n",
              "      <td>0.0</td>\n",
              "      <td>NaN</td>\n",
              "      <td>NaN</td>\n",
              "      <td>NaN</td>\n",
              "      <td>NaN</td>\n",
              "      <td>NaN</td>\n",
              "    </tr>\n",
              "  </tbody>\n",
              "</table>\n",
              "<p>134709 rows × 13 columns</p>\n",
              "</div>\n",
              "      <button class=\"colab-df-convert\" onclick=\"convertToInteractive('df-5ce04916-4951-4a58-94a9-2de5c00276d0')\"\n",
              "              title=\"Convert this dataframe to an interactive table.\"\n",
              "              style=\"display:none;\">\n",
              "        \n",
              "  <svg xmlns=\"http://www.w3.org/2000/svg\" height=\"24px\"viewBox=\"0 0 24 24\"\n",
              "       width=\"24px\">\n",
              "    <path d=\"M0 0h24v24H0V0z\" fill=\"none\"/>\n",
              "    <path d=\"M18.56 5.44l.94 2.06.94-2.06 2.06-.94-2.06-.94-.94-2.06-.94 2.06-2.06.94zm-11 1L8.5 8.5l.94-2.06 2.06-.94-2.06-.94L8.5 2.5l-.94 2.06-2.06.94zm10 10l.94 2.06.94-2.06 2.06-.94-2.06-.94-.94-2.06-.94 2.06-2.06.94z\"/><path d=\"M17.41 7.96l-1.37-1.37c-.4-.4-.92-.59-1.43-.59-.52 0-1.04.2-1.43.59L10.3 9.45l-7.72 7.72c-.78.78-.78 2.05 0 2.83L4 21.41c.39.39.9.59 1.41.59.51 0 1.02-.2 1.41-.59l7.78-7.78 2.81-2.81c.8-.78.8-2.07 0-2.86zM5.41 20L4 18.59l7.72-7.72 1.47 1.35L5.41 20z\"/>\n",
              "  </svg>\n",
              "      </button>\n",
              "      \n",
              "  <style>\n",
              "    .colab-df-container {\n",
              "      display:flex;\n",
              "      flex-wrap:wrap;\n",
              "      gap: 12px;\n",
              "    }\n",
              "\n",
              "    .colab-df-convert {\n",
              "      background-color: #E8F0FE;\n",
              "      border: none;\n",
              "      border-radius: 50%;\n",
              "      cursor: pointer;\n",
              "      display: none;\n",
              "      fill: #1967D2;\n",
              "      height: 32px;\n",
              "      padding: 0 0 0 0;\n",
              "      width: 32px;\n",
              "    }\n",
              "\n",
              "    .colab-df-convert:hover {\n",
              "      background-color: #E2EBFA;\n",
              "      box-shadow: 0px 1px 2px rgba(60, 64, 67, 0.3), 0px 1px 3px 1px rgba(60, 64, 67, 0.15);\n",
              "      fill: #174EA6;\n",
              "    }\n",
              "\n",
              "    [theme=dark] .colab-df-convert {\n",
              "      background-color: #3B4455;\n",
              "      fill: #D2E3FC;\n",
              "    }\n",
              "\n",
              "    [theme=dark] .colab-df-convert:hover {\n",
              "      background-color: #434B5C;\n",
              "      box-shadow: 0px 1px 3px 1px rgba(0, 0, 0, 0.15);\n",
              "      filter: drop-shadow(0px 1px 2px rgba(0, 0, 0, 0.3));\n",
              "      fill: #FFFFFF;\n",
              "    }\n",
              "  </style>\n",
              "\n",
              "      <script>\n",
              "        const buttonEl =\n",
              "          document.querySelector('#df-5ce04916-4951-4a58-94a9-2de5c00276d0 button.colab-df-convert');\n",
              "        buttonEl.style.display =\n",
              "          google.colab.kernel.accessAllowed ? 'block' : 'none';\n",
              "\n",
              "        async function convertToInteractive(key) {\n",
              "          const element = document.querySelector('#df-5ce04916-4951-4a58-94a9-2de5c00276d0');\n",
              "          const dataTable =\n",
              "            await google.colab.kernel.invokeFunction('convertToInteractive',\n",
              "                                                     [key], {});\n",
              "          if (!dataTable) return;\n",
              "\n",
              "          const docLinkHtml = 'Like what you see? Visit the ' +\n",
              "            '<a target=\"_blank\" href=https://colab.research.google.com/notebooks/data_table.ipynb>data table notebook</a>'\n",
              "            + ' to learn more about interactive tables.';\n",
              "          element.innerHTML = '';\n",
              "          dataTable['output_type'] = 'display_data';\n",
              "          await google.colab.output.renderOutput(dataTable, element);\n",
              "          const docLink = document.createElement('div');\n",
              "          docLink.innerHTML = docLinkHtml;\n",
              "          element.appendChild(docLink);\n",
              "        }\n",
              "      </script>\n",
              "    </div>\n",
              "  </div>\n",
              "  "
            ]
          },
          "metadata": {},
          "execution_count": 35
        }
      ]
    },
    {
      "cell_type": "code",
      "source": [
        "#filling null values for v=catagorical data\n",
        "df4[\"Category\"].fillna(df4[\"Category\"].mode()[0], inplace=True)         #replacing null values by mode using fillna function\n",
        "df4[\"Type\"].fillna(df4[\"Type\"].mode()[0], inplace=True)\n",
        "df4[\"Content Rating\"].fillna(df4[\"Content Rating\"].mode()[0], inplace=True)\n",
        "df4[\"Genres\"].fillna(df4[\"Genres\"].mode()[0], inplace=True)\n",
        "df4[\"Last Updated\"].fillna(df4[\"Last Updated\"].mode()[0], inplace=True)\n",
        "df4[\"Current Ver\"].fillna(df4[\"Current Ver\"].mode()[0], inplace=True)\n",
        "df4[\"Android Ver\"].fillna(df4[\"Android Ver\"].mode()[0], inplace=True)\n",
        "df4"
      ],
      "metadata": {
        "colab": {
          "base_uri": "https://localhost:8080/",
          "height": 658
        },
        "id": "KA8I5ur59oIA",
        "outputId": "3d43ba75-c197-42ea-a9e6-0f1e25551c73"
      },
      "execution_count": 36,
      "outputs": [
        {
          "output_type": "execute_result",
          "data": {
            "text/plain": [
              "                                                   App        Category  \\\n",
              "0       Photo Editor & Candy Camera & Grid & ScrapBook  ART_AND_DESIGN   \n",
              "1                                  Coloring book moana  ART_AND_DESIGN   \n",
              "2                                  Coloring book moana  ART_AND_DESIGN   \n",
              "3                                  Coloring book moana  ART_AND_DESIGN   \n",
              "4                                  Coloring book moana  ART_AND_DESIGN   \n",
              "...                                                ...             ...   \n",
              "134705                  Home Street – Home Design Game            GAME   \n",
              "134706                  Home Street – Home Design Game            GAME   \n",
              "134707                  Home Street – Home Design Game            GAME   \n",
              "134708                  Home Street – Home Design Game            GAME   \n",
              "134709                  Home Street – Home Design Game            GAME   \n",
              "\n",
              "        Rating   Reviews     Size    Installs  Type  Price Content Rating  \\\n",
              "0          4.1     159.0  19000.0     10000.0  Free    0.0       Everyone   \n",
              "1          3.9     967.0  14000.0    500000.0  Free    0.0       Everyone   \n",
              "2          3.9     967.0  14000.0    500000.0  Free    0.0       Everyone   \n",
              "3          3.9     967.0  14000.0    500000.0  Free    0.0       Everyone   \n",
              "4          3.9     967.0  14000.0    500000.0  Free    0.0       Everyone   \n",
              "...        ...       ...      ...         ...   ...    ...            ...   \n",
              "134705     4.4  136626.0  24000.0  10000000.0  Free    0.0       Everyone   \n",
              "134706     4.4  136626.0  24000.0  10000000.0  Free    0.0       Everyone   \n",
              "134707     4.4  136626.0  24000.0  10000000.0  Free    0.0       Everyone   \n",
              "134708     4.4  136626.0  24000.0  10000000.0  Free    0.0       Everyone   \n",
              "134709     4.4  136626.0  24000.0  10000000.0  Free    0.0       Everyone   \n",
              "\n",
              "                           Genres      Last Updated         Current Ver  \\\n",
              "0                    Art & Design   January 7, 2018               1.0.0   \n",
              "1       Art & Design;Pretend Play  January 15, 2018               2.0.0   \n",
              "2       Art & Design;Pretend Play  January 15, 2018               2.0.0   \n",
              "3       Art & Design;Pretend Play  January 15, 2018               2.0.0   \n",
              "4       Art & Design;Pretend Play  January 15, 2018               2.0.0   \n",
              "...                           ...               ...                 ...   \n",
              "134705                     Sports     July 31, 2018  Varies with device   \n",
              "134706                     Sports     July 31, 2018  Varies with device   \n",
              "134707                     Sports     July 31, 2018  Varies with device   \n",
              "134708                     Sports     July 31, 2018  Varies with device   \n",
              "134709                     Sports     July 31, 2018  Varies with device   \n",
              "\n",
              "               Android Ver  \n",
              "0             4.0.3 and up  \n",
              "1             4.0.3 and up  \n",
              "2             4.0.3 and up  \n",
              "3             4.0.3 and up  \n",
              "4             4.0.3 and up  \n",
              "...                    ...  \n",
              "134705  Varies with device  \n",
              "134706  Varies with device  \n",
              "134707  Varies with device  \n",
              "134708  Varies with device  \n",
              "134709  Varies with device  \n",
              "\n",
              "[134709 rows x 13 columns]"
            ],
            "text/html": [
              "\n",
              "  <div id=\"df-2990defa-7397-48b6-81d2-52af1616077b\">\n",
              "    <div class=\"colab-df-container\">\n",
              "      <div>\n",
              "<style scoped>\n",
              "    .dataframe tbody tr th:only-of-type {\n",
              "        vertical-align: middle;\n",
              "    }\n",
              "\n",
              "    .dataframe tbody tr th {\n",
              "        vertical-align: top;\n",
              "    }\n",
              "\n",
              "    .dataframe thead th {\n",
              "        text-align: right;\n",
              "    }\n",
              "</style>\n",
              "<table border=\"1\" class=\"dataframe\">\n",
              "  <thead>\n",
              "    <tr style=\"text-align: right;\">\n",
              "      <th></th>\n",
              "      <th>App</th>\n",
              "      <th>Category</th>\n",
              "      <th>Rating</th>\n",
              "      <th>Reviews</th>\n",
              "      <th>Size</th>\n",
              "      <th>Installs</th>\n",
              "      <th>Type</th>\n",
              "      <th>Price</th>\n",
              "      <th>Content Rating</th>\n",
              "      <th>Genres</th>\n",
              "      <th>Last Updated</th>\n",
              "      <th>Current Ver</th>\n",
              "      <th>Android Ver</th>\n",
              "    </tr>\n",
              "  </thead>\n",
              "  <tbody>\n",
              "    <tr>\n",
              "      <th>0</th>\n",
              "      <td>Photo Editor &amp; Candy Camera &amp; Grid &amp; ScrapBook</td>\n",
              "      <td>ART_AND_DESIGN</td>\n",
              "      <td>4.1</td>\n",
              "      <td>159.0</td>\n",
              "      <td>19000.0</td>\n",
              "      <td>10000.0</td>\n",
              "      <td>Free</td>\n",
              "      <td>0.0</td>\n",
              "      <td>Everyone</td>\n",
              "      <td>Art &amp; Design</td>\n",
              "      <td>January 7, 2018</td>\n",
              "      <td>1.0.0</td>\n",
              "      <td>4.0.3 and up</td>\n",
              "    </tr>\n",
              "    <tr>\n",
              "      <th>1</th>\n",
              "      <td>Coloring book moana</td>\n",
              "      <td>ART_AND_DESIGN</td>\n",
              "      <td>3.9</td>\n",
              "      <td>967.0</td>\n",
              "      <td>14000.0</td>\n",
              "      <td>500000.0</td>\n",
              "      <td>Free</td>\n",
              "      <td>0.0</td>\n",
              "      <td>Everyone</td>\n",
              "      <td>Art &amp; Design;Pretend Play</td>\n",
              "      <td>January 15, 2018</td>\n",
              "      <td>2.0.0</td>\n",
              "      <td>4.0.3 and up</td>\n",
              "    </tr>\n",
              "    <tr>\n",
              "      <th>2</th>\n",
              "      <td>Coloring book moana</td>\n",
              "      <td>ART_AND_DESIGN</td>\n",
              "      <td>3.9</td>\n",
              "      <td>967.0</td>\n",
              "      <td>14000.0</td>\n",
              "      <td>500000.0</td>\n",
              "      <td>Free</td>\n",
              "      <td>0.0</td>\n",
              "      <td>Everyone</td>\n",
              "      <td>Art &amp; Design;Pretend Play</td>\n",
              "      <td>January 15, 2018</td>\n",
              "      <td>2.0.0</td>\n",
              "      <td>4.0.3 and up</td>\n",
              "    </tr>\n",
              "    <tr>\n",
              "      <th>3</th>\n",
              "      <td>Coloring book moana</td>\n",
              "      <td>ART_AND_DESIGN</td>\n",
              "      <td>3.9</td>\n",
              "      <td>967.0</td>\n",
              "      <td>14000.0</td>\n",
              "      <td>500000.0</td>\n",
              "      <td>Free</td>\n",
              "      <td>0.0</td>\n",
              "      <td>Everyone</td>\n",
              "      <td>Art &amp; Design;Pretend Play</td>\n",
              "      <td>January 15, 2018</td>\n",
              "      <td>2.0.0</td>\n",
              "      <td>4.0.3 and up</td>\n",
              "    </tr>\n",
              "    <tr>\n",
              "      <th>4</th>\n",
              "      <td>Coloring book moana</td>\n",
              "      <td>ART_AND_DESIGN</td>\n",
              "      <td>3.9</td>\n",
              "      <td>967.0</td>\n",
              "      <td>14000.0</td>\n",
              "      <td>500000.0</td>\n",
              "      <td>Free</td>\n",
              "      <td>0.0</td>\n",
              "      <td>Everyone</td>\n",
              "      <td>Art &amp; Design;Pretend Play</td>\n",
              "      <td>January 15, 2018</td>\n",
              "      <td>2.0.0</td>\n",
              "      <td>4.0.3 and up</td>\n",
              "    </tr>\n",
              "    <tr>\n",
              "      <th>...</th>\n",
              "      <td>...</td>\n",
              "      <td>...</td>\n",
              "      <td>...</td>\n",
              "      <td>...</td>\n",
              "      <td>...</td>\n",
              "      <td>...</td>\n",
              "      <td>...</td>\n",
              "      <td>...</td>\n",
              "      <td>...</td>\n",
              "      <td>...</td>\n",
              "      <td>...</td>\n",
              "      <td>...</td>\n",
              "      <td>...</td>\n",
              "    </tr>\n",
              "    <tr>\n",
              "      <th>134705</th>\n",
              "      <td>Home Street – Home Design Game</td>\n",
              "      <td>GAME</td>\n",
              "      <td>4.4</td>\n",
              "      <td>136626.0</td>\n",
              "      <td>24000.0</td>\n",
              "      <td>10000000.0</td>\n",
              "      <td>Free</td>\n",
              "      <td>0.0</td>\n",
              "      <td>Everyone</td>\n",
              "      <td>Sports</td>\n",
              "      <td>July 31, 2018</td>\n",
              "      <td>Varies with device</td>\n",
              "      <td>Varies with device</td>\n",
              "    </tr>\n",
              "    <tr>\n",
              "      <th>134706</th>\n",
              "      <td>Home Street – Home Design Game</td>\n",
              "      <td>GAME</td>\n",
              "      <td>4.4</td>\n",
              "      <td>136626.0</td>\n",
              "      <td>24000.0</td>\n",
              "      <td>10000000.0</td>\n",
              "      <td>Free</td>\n",
              "      <td>0.0</td>\n",
              "      <td>Everyone</td>\n",
              "      <td>Sports</td>\n",
              "      <td>July 31, 2018</td>\n",
              "      <td>Varies with device</td>\n",
              "      <td>Varies with device</td>\n",
              "    </tr>\n",
              "    <tr>\n",
              "      <th>134707</th>\n",
              "      <td>Home Street – Home Design Game</td>\n",
              "      <td>GAME</td>\n",
              "      <td>4.4</td>\n",
              "      <td>136626.0</td>\n",
              "      <td>24000.0</td>\n",
              "      <td>10000000.0</td>\n",
              "      <td>Free</td>\n",
              "      <td>0.0</td>\n",
              "      <td>Everyone</td>\n",
              "      <td>Sports</td>\n",
              "      <td>July 31, 2018</td>\n",
              "      <td>Varies with device</td>\n",
              "      <td>Varies with device</td>\n",
              "    </tr>\n",
              "    <tr>\n",
              "      <th>134708</th>\n",
              "      <td>Home Street – Home Design Game</td>\n",
              "      <td>GAME</td>\n",
              "      <td>4.4</td>\n",
              "      <td>136626.0</td>\n",
              "      <td>24000.0</td>\n",
              "      <td>10000000.0</td>\n",
              "      <td>Free</td>\n",
              "      <td>0.0</td>\n",
              "      <td>Everyone</td>\n",
              "      <td>Sports</td>\n",
              "      <td>July 31, 2018</td>\n",
              "      <td>Varies with device</td>\n",
              "      <td>Varies with device</td>\n",
              "    </tr>\n",
              "    <tr>\n",
              "      <th>134709</th>\n",
              "      <td>Home Street – Home Design Game</td>\n",
              "      <td>GAME</td>\n",
              "      <td>4.4</td>\n",
              "      <td>136626.0</td>\n",
              "      <td>24000.0</td>\n",
              "      <td>10000000.0</td>\n",
              "      <td>Free</td>\n",
              "      <td>0.0</td>\n",
              "      <td>Everyone</td>\n",
              "      <td>Sports</td>\n",
              "      <td>July 31, 2018</td>\n",
              "      <td>Varies with device</td>\n",
              "      <td>Varies with device</td>\n",
              "    </tr>\n",
              "  </tbody>\n",
              "</table>\n",
              "<p>134709 rows × 13 columns</p>\n",
              "</div>\n",
              "      <button class=\"colab-df-convert\" onclick=\"convertToInteractive('df-2990defa-7397-48b6-81d2-52af1616077b')\"\n",
              "              title=\"Convert this dataframe to an interactive table.\"\n",
              "              style=\"display:none;\">\n",
              "        \n",
              "  <svg xmlns=\"http://www.w3.org/2000/svg\" height=\"24px\"viewBox=\"0 0 24 24\"\n",
              "       width=\"24px\">\n",
              "    <path d=\"M0 0h24v24H0V0z\" fill=\"none\"/>\n",
              "    <path d=\"M18.56 5.44l.94 2.06.94-2.06 2.06-.94-2.06-.94-.94-2.06-.94 2.06-2.06.94zm-11 1L8.5 8.5l.94-2.06 2.06-.94-2.06-.94L8.5 2.5l-.94 2.06-2.06.94zm10 10l.94 2.06.94-2.06 2.06-.94-2.06-.94-.94-2.06-.94 2.06-2.06.94z\"/><path d=\"M17.41 7.96l-1.37-1.37c-.4-.4-.92-.59-1.43-.59-.52 0-1.04.2-1.43.59L10.3 9.45l-7.72 7.72c-.78.78-.78 2.05 0 2.83L4 21.41c.39.39.9.59 1.41.59.51 0 1.02-.2 1.41-.59l7.78-7.78 2.81-2.81c.8-.78.8-2.07 0-2.86zM5.41 20L4 18.59l7.72-7.72 1.47 1.35L5.41 20z\"/>\n",
              "  </svg>\n",
              "      </button>\n",
              "      \n",
              "  <style>\n",
              "    .colab-df-container {\n",
              "      display:flex;\n",
              "      flex-wrap:wrap;\n",
              "      gap: 12px;\n",
              "    }\n",
              "\n",
              "    .colab-df-convert {\n",
              "      background-color: #E8F0FE;\n",
              "      border: none;\n",
              "      border-radius: 50%;\n",
              "      cursor: pointer;\n",
              "      display: none;\n",
              "      fill: #1967D2;\n",
              "      height: 32px;\n",
              "      padding: 0 0 0 0;\n",
              "      width: 32px;\n",
              "    }\n",
              "\n",
              "    .colab-df-convert:hover {\n",
              "      background-color: #E2EBFA;\n",
              "      box-shadow: 0px 1px 2px rgba(60, 64, 67, 0.3), 0px 1px 3px 1px rgba(60, 64, 67, 0.15);\n",
              "      fill: #174EA6;\n",
              "    }\n",
              "\n",
              "    [theme=dark] .colab-df-convert {\n",
              "      background-color: #3B4455;\n",
              "      fill: #D2E3FC;\n",
              "    }\n",
              "\n",
              "    [theme=dark] .colab-df-convert:hover {\n",
              "      background-color: #434B5C;\n",
              "      box-shadow: 0px 1px 3px 1px rgba(0, 0, 0, 0.15);\n",
              "      filter: drop-shadow(0px 1px 2px rgba(0, 0, 0, 0.3));\n",
              "      fill: #FFFFFF;\n",
              "    }\n",
              "  </style>\n",
              "\n",
              "      <script>\n",
              "        const buttonEl =\n",
              "          document.querySelector('#df-2990defa-7397-48b6-81d2-52af1616077b button.colab-df-convert');\n",
              "        buttonEl.style.display =\n",
              "          google.colab.kernel.accessAllowed ? 'block' : 'none';\n",
              "\n",
              "        async function convertToInteractive(key) {\n",
              "          const element = document.querySelector('#df-2990defa-7397-48b6-81d2-52af1616077b');\n",
              "          const dataTable =\n",
              "            await google.colab.kernel.invokeFunction('convertToInteractive',\n",
              "                                                     [key], {});\n",
              "          if (!dataTable) return;\n",
              "\n",
              "          const docLinkHtml = 'Like what you see? Visit the ' +\n",
              "            '<a target=\"_blank\" href=https://colab.research.google.com/notebooks/data_table.ipynb>data table notebook</a>'\n",
              "            + ' to learn more about interactive tables.';\n",
              "          element.innerHTML = '';\n",
              "          dataTable['output_type'] = 'display_data';\n",
              "          await google.colab.output.renderOutput(dataTable, element);\n",
              "          const docLink = document.createElement('div');\n",
              "          docLink.innerHTML = docLinkHtml;\n",
              "          element.appendChild(docLink);\n",
              "        }\n",
              "      </script>\n",
              "    </div>\n",
              "  </div>\n",
              "  "
            ]
          },
          "metadata": {},
          "execution_count": 36
        }
      ]
    },
    {
      "cell_type": "code",
      "source": [
        "# Visualizing the missing values after data cleaning and filling null values \n",
        "\n",
        "msno.bar(df4) #ploting bar plot using missingno library"
      ],
      "metadata": {
        "colab": {
          "base_uri": "https://localhost:8080/",
          "height": 681
        },
        "id": "tDQkVs6d9oEF",
        "outputId": "fe6c293b-6eba-4fd3-c2f5-39ba66b5938c"
      },
      "execution_count": 37,
      "outputs": [
        {
          "output_type": "execute_result",
          "data": {
            "text/plain": [
              "<AxesSubplot:>"
            ]
          },
          "metadata": {},
          "execution_count": 37
        },
        {
          "output_type": "display_data",
          "data": {
            "text/plain": [
              "<Figure size 1800x720 with 3 Axes>"
            ],
            "image/png": "[encoded data removed]"
          },
          "metadata": {
            "needs_background": "light"
          }
        }
      ]
    },
    {
      "cell_type": "markdown",
      "source": [
        " **Data cleaning summary:**\n",
        "\n",
        "we have replaced few charaters from data set so we can change their data type droped few columns as we were not going to use them in analysis also they were having more then 50% null values an rest of the columns which had null values are been replaced so now we are ready for data Vizualization."
      ],
      "metadata": {
        "id": "nmW87ldg-P68"
      }
    },
    {
      "cell_type": "code",
      "source": [],
      "metadata": {
        "id": "5MKtlz7R9oBT"
      },
      "execution_count": 37,
      "outputs": []
    },
    {
      "cell_type": "markdown",
      "source": [
        "### What all manipulations have you done and insights you found?"
      ],
      "metadata": {
        "id": "MSa1f5Uengrz"
      }
    },
    {
      "cell_type": "markdown",
      "source": [
        "Answer Here."
      ],
      "metadata": {
        "id": "LbyXE7I1olp8"
      }
    },
    {
      "cell_type": "markdown",
      "source": [
        "## ***4. Data Vizualization, Storytelling & Experimenting with charts : Understand the relationships between variables***"
      ],
      "metadata": {
        "id": "GF8Ens_Soomf"
      }
    },
    {
      "cell_type": "markdown",
      "source": [
        "# **Bivariate analysis:**\n",
        "Bivariate analysis refers to the analysis of two variables to determine relationships between them"
      ],
      "metadata": {
        "id": "5oud1IroB4GZ"
      }
    },
    {
      "cell_type": "markdown",
      "source": [
        "#### Chart - 1"
      ],
      "metadata": {
        "id": "0wOQAZs5pc--"
      }
    },
    {
      "cell_type": "markdown",
      "source": [
        "**1.Find out app share in the playstore category wise?**"
      ],
      "metadata": {
        "id": "S4NJZyUEiWHa"
      }
    },
    {
      "cell_type": "code",
      "source": [
        "# Chart - 1 visualization code\n",
        "plt.figure(figsize=(15,15))\n",
        "plt.pie(df4.Category.value_counts(), labels=df4.Category.value_counts().index, autopct='%1.2f%%')\n",
        "my_circle = plt.Circle( (0,0), 0.50, color='white')\n",
        "p=plt.gcf()\n",
        "p.gca().add_artist(my_circle)\n",
        "plt.title('% of apps share in each Category', fontsize = 25)\n",
        "plt.show()"
      ],
      "metadata": {
        "id": "7v_ESjsspbW7",
        "colab": {
          "base_uri": "https://localhost:8080/",
          "height": 871
        },
        "outputId": "fe055e46-fc71-4fb5-a040-db7a9e98cfaf"
      },
      "execution_count": 38,
      "outputs": [
        {
          "output_type": "display_data",
          "data": {
            "text/plain": [
              "<Figure size 1080x1080 with 1 Axes>"
            ],
            "image/png": "[encoded data removed]"
          },
          "metadata": {}
        }
      ]
    },
    {
      "cell_type": "markdown",
      "source": [
        "##### 1. Why did you pick the specific chart?"
      ],
      "metadata": {
        "id": "K5QZ13OEpz2H"
      }
    },
    {
      "cell_type": "markdown",
      "source": [
        "I have used pie plot as the data is categorical data also its much easy to explain share with it an it looks thats why I used pie plot. It gives percentage share of each category."
      ],
      "metadata": {
        "id": "XESiWehPqBRc"
      }
    },
    {
      "cell_type": "markdown",
      "source": [
        "##### 2. What is/are the insight(s) found from the chart?"
      ],
      "metadata": {
        "id": "lQ7QKXXCp7Bj"
      }
    },
    {
      "cell_type": "markdown",
      "source": [
        "By Observing above chart we get know about domination of Gamin, Sports and Family category apps is more than almost 40% of overall apps present on playstore. "
      ],
      "metadata": {
        "id": "C_j1G7yiqdRP"
      }
    },
    {
      "cell_type": "markdown",
      "source": [
        "##### 3. Will the gained insights help creating a positive business impact? \n",
        "Are there any insights that lead to negative growth? Justify with specific reason."
      ],
      "metadata": {
        "id": "448CDAPjqfQr"
      }
    },
    {
      "cell_type": "code",
      "source": [
        "df4['Category'].value_counts()   #value cout of sub_catagory inside catagory"
      ],
      "metadata": {
        "colab": {
          "base_uri": "https://localhost:8080/"
        },
        "id": "VAnZHu-bh_QY",
        "outputId": "2727ae90-fc0f-4e72-a6bf-289816a16472"
      },
      "execution_count": 39,
      "outputs": [
        {
          "output_type": "execute_result",
          "data": {
            "text/plain": [
              "GAME                   32050\n",
              "FAMILY                 11784\n",
              "SPORTS                  9154\n",
              "HEALTH_AND_FITNESS      6835\n",
              "PRODUCTIVITY            6129\n",
              "PHOTOGRAPHY             5924\n",
              "DATING                  5910\n",
              "COMMUNICATION           4779\n",
              "TRAVEL_AND_LOCAL        4574\n",
              "SHOPPING                4530\n",
              "ENTERTAINMENT           4357\n",
              "TOOLS                   4020\n",
              "MEDICAL                 3790\n",
              "EDUCATION               3594\n",
              "BUSINESS                3577\n",
              "NEWS_AND_MAGAZINES      3441\n",
              "FINANCE                 3389\n",
              "PERSONALIZATION         2540\n",
              "LIFESTYLE               2449\n",
              "SOCIAL                  2065\n",
              "BOOKS_AND_REFERENCE     1576\n",
              "FOOD_AND_DRINK          1571\n",
              "HOUSE_AND_HOME          1418\n",
              "AUTO_AND_VEHICLES        679\n",
              "VIDEO_PLAYERS            664\n",
              "BEAUTY                   636\n",
              "ART_AND_DESIGN           601\n",
              "LIBRARIES_AND_DEMO       592\n",
              "MAPS_AND_NAVIGATION      566\n",
              "PARENTING                489\n",
              "WEATHER                  355\n",
              "EVENTS                   337\n",
              "COMICS                   333\n",
              "1.9                        1\n",
              "Name: Category, dtype: int64"
            ]
          },
          "metadata": {},
          "execution_count": 39
        }
      ]
    },
    {
      "cell_type": "markdown",
      "source": [
        "If we look up to present situation in apps market, it can be said that doing work in gaming and sports apps category is going to be competative so we shall select very carefully while targeting these categories for business growth."
      ],
      "metadata": {
        "id": "3cspy4FjqxJW"
      }
    },
    {
      "cell_type": "markdown",
      "source": [
        "#### Chart - 2"
      ],
      "metadata": {
        "id": "KSlN3yHqYklG"
      }
    },
    {
      "cell_type": "markdown",
      "source": [
        "**2.What is the average Ratings of Apps ?**"
      ],
      "metadata": {
        "id": "jUMrGd87in1b"
      }
    },
    {
      "cell_type": "code",
      "source": [
        "# Chart - 2 visualization code\n",
        "df4['Rating'].value_counts().plot.bar(figsize=(20,8), color = 'k' )  #ploting bar plot\n",
        "plt.xlabel('Average rating',fontsize = 15 )             #labeling x axis\n",
        "plt.ylabel('Number of apps', fontsize = 15)              #labeling y axis\n",
        "plt.title('Average rating of apps in Playstore', fontsize = 20)  #giving title\n",
        "plt.legend();"
      ],
      "metadata": {
        "id": "R4YgtaqtYklH",
        "colab": {
          "base_uri": "https://localhost:8080/",
          "height": 535
        },
        "outputId": "861031d2-a487-478e-c107-ba47147d274e"
      },
      "execution_count": 40,
      "outputs": [
        {
          "output_type": "display_data",
          "data": {
            "text/plain": [
              "<Figure size 1440x576 with 1 Axes>"
            ],
            "image/png": "[encoded data removed]"
          },
          "metadata": {
            "needs_background": "light"
          }
        }
      ]
    },
    {
      "cell_type": "markdown",
      "source": [
        "##### 1. Why did you pick the specific chart?"
      ],
      "metadata": {
        "id": "t6dVpIINYklI"
      }
    },
    {
      "cell_type": "markdown",
      "source": [
        "By using bar plot we can easily recognize that mentality of people behind giving rating. Easy comparisons between different rating figure. Clarity in displaying in data. Easy determination in the value of a ratings given to apps."
      ],
      "metadata": {
        "id": "5aaW0BYyYklI"
      }
    },
    {
      "cell_type": "markdown",
      "source": [
        "##### 2. What is/are the insight(s) found from the chart?"
      ],
      "metadata": {
        "id": "ijmpgYnKYklI"
      }
    },
    {
      "cell_type": "markdown",
      "source": [
        "Above the conclusion is that most of the people have given top Ratings between 3.5 to 4.8\n",
        "\n",
        "4-5: Top rated\n",
        "\n",
        "3-4: Above average\n",
        "\n",
        "2-3: Average\n",
        "\n",
        "1-2: Below average"
      ],
      "metadata": {
        "id": "PSx9atu2YklI"
      }
    },
    {
      "cell_type": "markdown",
      "source": [
        "##### 3. Will the gained insights help creating a positive business impact? \n",
        "Are there any insights that lead to negative growth? Justify with specific reason."
      ],
      "metadata": {
        "id": "-JiQyfWJYklI"
      }
    },
    {
      "cell_type": "markdown",
      "source": [
        "Getting higher ratings means winning trust of users. Most of the apps are able to make it above rating of 4 so it becomes must thing to achieve rating of 4 and beat competition."
      ],
      "metadata": {
        "id": "BcBbebzrYklV"
      }
    },
    {
      "cell_type": "markdown",
      "source": [
        "#### Chart - 3"
      ],
      "metadata": {
        "id": "EM7whBJCYoAo"
      }
    },
    {
      "cell_type": "markdown",
      "source": [
        "**3. which is the most favourite category in Games?**\n"
      ],
      "metadata": {
        "id": "DtYX2hqHm7Wq"
      }
    },
    {
      "cell_type": "code",
      "source": [
        "# Chart - 3 visualization code\n",
        "family = df4[(df4[\"Category\"] == \"GAME\")]\n",
        "family_geners = family.groupby(\"Genres\")[\"Category\"].count()\n",
        "plt.rcParams['figure.figsize'] = (15, 15)    # setting up the figure size of our data so all the things gets easily visible\n",
        "sns.barplot(x=family_geners, y=family_geners.index, data=df4)"
      ],
      "metadata": {
        "id": "t6GMdE67YoAp",
        "colab": {
          "base_uri": "https://localhost:8080/",
          "height": 894
        },
        "outputId": "09bdcb6f-8873-416f-ead3-5babe53b1005"
      },
      "execution_count": 41,
      "outputs": [
        {
          "output_type": "execute_result",
          "data": {
            "text/plain": [
              "<AxesSubplot:xlabel='Category', ylabel='Genres'>"
            ]
          },
          "metadata": {},
          "execution_count": 41
        },
        {
          "output_type": "display_data",
          "data": {
            "text/plain": [
              "<Figure size 1080x1080 with 1 Axes>"
            ],
            "image/png": "[encoded data removed]"
          },
          "metadata": {
            "needs_background": "light"
          }
        }
      ]
    },
    {
      "cell_type": "markdown",
      "source": [
        "##### 1. Why did you pick the specific chart?"
      ],
      "metadata": {
        "id": "fge-S5ZAYoAp"
      }
    },
    {
      "cell_type": "markdown",
      "source": [
        "here we used bar polt as it is as categorical data from the plot we can see that asction games are mostly prefered by people to play after that casual and arcade games are mostly played by people so we shoud focus on this type of apps."
      ],
      "metadata": {
        "id": "5dBItgRVYoAp"
      }
    },
    {
      "cell_type": "markdown",
      "source": [
        "##### 2. What is/are the insight(s) found from the chart?"
      ],
      "metadata": {
        "id": "85gYPyotYoAp"
      }
    },
    {
      "cell_type": "markdown",
      "source": [
        "Action, Arcade, Puzzle and Sports are dominating gaming fields in GAME category."
      ],
      "metadata": {
        "id": "4jstXR6OYoAp"
      }
    },
    {
      "cell_type": "markdown",
      "source": [
        "##### 3. Will the gained insights help creating a positive business impact? \n",
        "Are there any insights that lead to negative growth? Justify with specific reason."
      ],
      "metadata": {
        "id": "RoGjAbkUYoAp"
      }
    },
    {
      "cell_type": "markdown",
      "source": [
        "Good revenue can be generated in Action, Arcade, Puzzle and Sports type in GAME categogry and investing time and money in Music and Trivia games can riskier so avoid that."
      ],
      "metadata": {
        "id": "zfJ8IqMcYoAp"
      }
    },
    {
      "cell_type": "markdown",
      "source": [
        "#### Chart - 4"
      ],
      "metadata": {
        "id": "4Of9eVA-YrdM"
      }
    },
    {
      "cell_type": "markdown",
      "source": [
        "**4. Distribution of apps in term of their rating, size and type.**"
      ],
      "metadata": {
        "id": "58p6N62Fo1MZ"
      }
    },
    {
      "cell_type": "code",
      "source": [
        "# Chart - 4 visualization code\n",
        "df4['Type'].value_counts()"
      ],
      "metadata": {
        "colab": {
          "base_uri": "https://localhost:8080/"
        },
        "id": "FsMy6wovy_SE",
        "outputId": "80fd7fdc-28d9-4c38-c330-5b7ae7071454"
      },
      "execution_count": 42,
      "outputs": [
        {
          "output_type": "execute_result",
          "data": {
            "text/plain": [
              "Free    132382\n",
              "Paid      2326\n",
              "0            1\n",
              "Name: Type, dtype: int64"
            ]
          },
          "metadata": {},
          "execution_count": 42
        }
      ]
    },
    {
      "cell_type": "code",
      "source": [
        "a=df4.index[df4[\"Type\"]=='0']\n",
        "df4.drop([131611] , axis = 0 ,inplace = True)   #droping unwanted row dean"
      ],
      "metadata": {
        "id": "bqs5fx5Dy_Oi"
      },
      "execution_count": 43,
      "outputs": []
    },
    {
      "cell_type": "code",
      "source": [
        "plt.figure(figsize=(12, 6))\n",
        "sns.scatterplot(df4['Size'], df4['Rating'],hue=df4['Type'],s=50) "
      ],
      "metadata": {
        "colab": {
          "base_uri": "https://localhost:8080/",
          "height": 460
        },
        "id": "SqZ77TOfuHNR",
        "outputId": "0f0494cf-d378-4e84-b1d9-2e969cf891db"
      },
      "execution_count": 58,
      "outputs": [
        {
          "output_type": "stream",
          "name": "stderr",
          "text": [
            "/usr/local/lib/python3.8/dist-packages/seaborn/_decorators.py:36: FutureWarning: Pass the following variables as keyword args: x, y. From version 0.12, the only valid positional argument will be `data`, and passing other arguments without an explicit keyword will result in an error or misinterpretation.\n",
            "  warnings.warn(\n"
          ]
        },
        {
          "output_type": "execute_result",
          "data": {
            "text/plain": [
              "<AxesSubplot:xlabel='Size', ylabel='Rating'>"
            ]
          },
          "metadata": {},
          "execution_count": 58
        },
        {
          "output_type": "display_data",
          "data": {
            "text/plain": [
              "<Figure size 864x432 with 1 Axes>"
            ],
            "image/png": "[encoded data removed]"
          },
          "metadata": {
            "needs_background": "light"
          }
        }
      ]
    },
    {
      "cell_type": "markdown",
      "source": [
        "##### 1. Why did you pick the specific chart?"
      ],
      "metadata": {
        "id": "iky9q4vBYrdO"
      }
    },
    {
      "cell_type": "markdown",
      "source": [
        "here we used scattered plot as we wanted to see the distribution of data and data type was numeric\n",
        "\n"
      ],
      "metadata": {
        "id": "aJRCwT6DYrdO"
      }
    },
    {
      "cell_type": "markdown",
      "source": [
        "##### 2. What is/are the insight(s) found from the chart?"
      ],
      "metadata": {
        "id": "F6T5p64dYrdO"
      }
    },
    {
      "cell_type": "markdown",
      "source": [
        "From this scattered plot, we can imply majority of the free apps are small in size and having high rating. \n",
        "While for paid apps, we have quite equal distribution in term on size and rating."
      ],
      "metadata": {
        "id": "Xx8WAJvtYrdO"
      }
    },
    {
      "cell_type": "markdown",
      "source": [
        "#### Chart - 5"
      ],
      "metadata": {
        "id": "bamQiAODYuh1"
      }
    },
    {
      "cell_type": "markdown",
      "source": [
        "**5. Which category of Apps from the ‘Content Rating’ column is found more on the play store?**"
      ],
      "metadata": {
        "id": "pXkkM-lv1Ghi"
      }
    },
    {
      "cell_type": "code",
      "source": [
        "# Chart - 5 visualization code\n",
        "df4['Content Rating'].unique()"
      ],
      "metadata": {
        "id": "TIJwrbroYuh3",
        "colab": {
          "base_uri": "https://localhost:8080/"
        },
        "outputId": "b4cb9668-5d0a-4c7e-a64e-783906efe7aa"
      },
      "execution_count": 45,
      "outputs": [
        {
          "output_type": "execute_result",
          "data": {
            "text/plain": [
              "array(['Everyone', 'Teen', 'Everyone 10+', 'Mature 17+',\n",
              "       'Adults only 18+', 'Unrated'], dtype=object)"
            ]
          },
          "metadata": {},
          "execution_count": 45
        }
      ]
    },
    {
      "cell_type": "code",
      "source": [
        "data = df4['Content Rating'].value_counts()\n",
        "labels = ['Everyone', 'Teen', 'Everyone 10+', 'Mature 17+','Adults only 18+', 'Unrated']\n",
        "\n",
        "#create pie chart\n",
        "plt.figure(figsize=(12,12))\n",
        "explode=(0,0.1,0.1,0.1,0.0,1.3)\n",
        "colors = ['orange', 'grey', 'yellow', 'r', 'm', 'k']\n",
        "plt.pie(data, labels = labels, colors = colors, autopct='%.2f%%',explode=explode,textprops={'fontsize': 15})\n",
        "plt.title('Content Rating',size=20,loc='center')"
      ],
      "metadata": {
        "colab": {
          "base_uri": "https://localhost:8080/",
          "height": 721
        },
        "id": "ZcarXAYB0d2T",
        "outputId": "fd3a0033-4c73-44e7-8054-d301e7cd1c5f"
      },
      "execution_count": 46,
      "outputs": [
        {
          "output_type": "execute_result",
          "data": {
            "text/plain": [
              "Text(0.5, 1.0, 'Content Rating')"
            ]
          },
          "metadata": {},
          "execution_count": 46
        },
        {
          "output_type": "display_data",
          "data": {
            "text/plain": [
              "<Figure size 864x864 with 1 Axes>"
            ],
            "image/png": "[encoded data removed]"
          },
          "metadata": {}
        }
      ]
    },
    {
      "cell_type": "markdown",
      "source": [
        "##### 1. Why did you pick the specific chart?"
      ],
      "metadata": {
        "id": "QHF8YVU7Yuh3"
      }
    },
    {
      "cell_type": "markdown",
      "source": [
        "Pie charts are useful way to organize data in order to see the size of occupied percentage share relative to the whole, and  so are particularly good at showing percentage."
      ],
      "metadata": {
        "id": "dcxuIMRPYuh3"
      }
    },
    {
      "cell_type": "markdown",
      "source": [
        "##### 2. What is/are the insight(s) found from the chart?"
      ],
      "metadata": {
        "id": "GwzvFGzlYuh3"
      }
    },
    {
      "cell_type": "markdown",
      "source": [
        "Most of the applications are belongs to “Everyone” which means not restricted to age and everyone can play"
      ],
      "metadata": {
        "id": "uyqkiB8YYuh3"
      }
    },
    {
      "cell_type": "markdown",
      "source": [
        "### **Multivariate analysis**\n"
      ],
      "metadata": {
        "id": "xU6MZ2qeVU5X"
      }
    },
    {
      "cell_type": "markdown",
      "source": [
        "#### Chart - 6 - Correlation Heatmap"
      ],
      "metadata": {
        "id": "NC_X3p0fY2L0"
      }
    },
    {
      "cell_type": "markdown",
      "source": [
        "**6.Correlation between all the columns of the datasets.**"
      ],
      "metadata": {
        "id": "PTgLRDdL1WBk"
      }
    },
    {
      "cell_type": "code",
      "source": [
        "# Correlation Heatmap visualization code\n",
        "df4.corr()"
      ],
      "metadata": {
        "id": "xyC9zolEZNRQ",
        "colab": {
          "base_uri": "https://localhost:8080/",
          "height": 206
        },
        "outputId": "4de30b47-5d76-4514-dc2b-aa2c93bfb169"
      },
      "execution_count": 55,
      "outputs": [
        {
          "output_type": "execute_result",
          "data": {
            "text/plain": [
              "            Rating   Reviews      Size  Installs     Price\n",
              "Rating    1.000000  0.141886  0.172841  0.007282 -0.037040\n",
              "Reviews   0.141886  1.000000  0.393129  0.415151 -0.014028\n",
              "Size      0.172841  0.393129  1.000000  0.099778 -0.006027\n",
              "Installs  0.007282  0.415151  0.099778  1.000000 -0.015292\n",
              "Price    -0.037040 -0.014028 -0.006027 -0.015292  1.000000"
            ],
            "text/html": [
              "\n",
              "  <div id=\"df-7ae1d697-db59-4b5f-b56c-b5cf77ece4b8\">\n",
              "    <div class=\"colab-df-container\">\n",
              "      <div>\n",
              "<style scoped>\n",
              "    .dataframe tbody tr th:only-of-type {\n",
              "        vertical-align: middle;\n",
              "    }\n",
              "\n",
              "    .dataframe tbody tr th {\n",
              "        vertical-align: top;\n",
              "    }\n",
              "\n",
              "    .dataframe thead th {\n",
              "        text-align: right;\n",
              "    }\n",
              "</style>\n",
              "<table border=\"1\" class=\"dataframe\">\n",
              "  <thead>\n",
              "    <tr style=\"text-align: right;\">\n",
              "      <th></th>\n",
              "      <th>Rating</th>\n",
              "      <th>Reviews</th>\n",
              "      <th>Size</th>\n",
              "      <th>Installs</th>\n",
              "      <th>Price</th>\n",
              "    </tr>\n",
              "  </thead>\n",
              "  <tbody>\n",
              "    <tr>\n",
              "      <th>Rating</th>\n",
              "      <td>1.000000</td>\n",
              "      <td>0.141886</td>\n",
              "      <td>0.172841</td>\n",
              "      <td>0.007282</td>\n",
              "      <td>-0.037040</td>\n",
              "    </tr>\n",
              "    <tr>\n",
              "      <th>Reviews</th>\n",
              "      <td>0.141886</td>\n",
              "      <td>1.000000</td>\n",
              "      <td>0.393129</td>\n",
              "      <td>0.415151</td>\n",
              "      <td>-0.014028</td>\n",
              "    </tr>\n",
              "    <tr>\n",
              "      <th>Size</th>\n",
              "      <td>0.172841</td>\n",
              "      <td>0.393129</td>\n",
              "      <td>1.000000</td>\n",
              "      <td>0.099778</td>\n",
              "      <td>-0.006027</td>\n",
              "    </tr>\n",
              "    <tr>\n",
              "      <th>Installs</th>\n",
              "      <td>0.007282</td>\n",
              "      <td>0.415151</td>\n",
              "      <td>0.099778</td>\n",
              "      <td>1.000000</td>\n",
              "      <td>-0.015292</td>\n",
              "    </tr>\n",
              "    <tr>\n",
              "      <th>Price</th>\n",
              "      <td>-0.037040</td>\n",
              "      <td>-0.014028</td>\n",
              "      <td>-0.006027</td>\n",
              "      <td>-0.015292</td>\n",
              "      <td>1.000000</td>\n",
              "    </tr>\n",
              "  </tbody>\n",
              "</table>\n",
              "</div>\n",
              "      <button class=\"colab-df-convert\" onclick=\"convertToInteractive('df-7ae1d697-db59-4b5f-b56c-b5cf77ece4b8')\"\n",
              "              title=\"Convert this dataframe to an interactive table.\"\n",
              "              style=\"display:none;\">\n",
              "        \n",
              "  <svg xmlns=\"http://www.w3.org/2000/svg\" height=\"24px\"viewBox=\"0 0 24 24\"\n",
              "       width=\"24px\">\n",
              "    <path d=\"M0 0h24v24H0V0z\" fill=\"none\"/>\n",
              "    <path d=\"M18.56 5.44l.94 2.06.94-2.06 2.06-.94-2.06-.94-.94-2.06-.94 2.06-2.06.94zm-11 1L8.5 8.5l.94-2.06 2.06-.94-2.06-.94L8.5 2.5l-.94 2.06-2.06.94zm10 10l.94 2.06.94-2.06 2.06-.94-2.06-.94-.94-2.06-.94 2.06-2.06.94z\"/><path d=\"M17.41 7.96l-1.37-1.37c-.4-.4-.92-.59-1.43-.59-.52 0-1.04.2-1.43.59L10.3 9.45l-7.72 7.72c-.78.78-.78 2.05 0 2.83L4 21.41c.39.39.9.59 1.41.59.51 0 1.02-.2 1.41-.59l7.78-7.78 2.81-2.81c.8-.78.8-2.07 0-2.86zM5.41 20L4 18.59l7.72-7.72 1.47 1.35L5.41 20z\"/>\n",
              "  </svg>\n",
              "      </button>\n",
              "      \n",
              "  <style>\n",
              "    .colab-df-container {\n",
              "      display:flex;\n",
              "      flex-wrap:wrap;\n",
              "      gap: 12px;\n",
              "    }\n",
              "\n",
              "    .colab-df-convert {\n",
              "      background-color: #E8F0FE;\n",
              "      border: none;\n",
              "      border-radius: 50%;\n",
              "      cursor: pointer;\n",
              "      display: none;\n",
              "      fill: #1967D2;\n",
              "      height: 32px;\n",
              "      padding: 0 0 0 0;\n",
              "      width: 32px;\n",
              "    }\n",
              "\n",
              "    .colab-df-convert:hover {\n",
              "      background-color: #E2EBFA;\n",
              "      box-shadow: 0px 1px 2px rgba(60, 64, 67, 0.3), 0px 1px 3px 1px rgba(60, 64, 67, 0.15);\n",
              "      fill: #174EA6;\n",
              "    }\n",
              "\n",
              "    [theme=dark] .colab-df-convert {\n",
              "      background-color: #3B4455;\n",
              "      fill: #D2E3FC;\n",
              "    }\n",
              "\n",
              "    [theme=dark] .colab-df-convert:hover {\n",
              "      background-color: #434B5C;\n",
              "      box-shadow: 0px 1px 3px 1px rgba(0, 0, 0, 0.15);\n",
              "      filter: drop-shadow(0px 1px 2px rgba(0, 0, 0, 0.3));\n",
              "      fill: #FFFFFF;\n",
              "    }\n",
              "  </style>\n",
              "\n",
              "      <script>\n",
              "        const buttonEl =\n",
              "          document.querySelector('#df-7ae1d697-db59-4b5f-b56c-b5cf77ece4b8 button.colab-df-convert');\n",
              "        buttonEl.style.display =\n",
              "          google.colab.kernel.accessAllowed ? 'block' : 'none';\n",
              "\n",
              "        async function convertToInteractive(key) {\n",
              "          const element = document.querySelector('#df-7ae1d697-db59-4b5f-b56c-b5cf77ece4b8');\n",
              "          const dataTable =\n",
              "            await google.colab.kernel.invokeFunction('convertToInteractive',\n",
              "                                                     [key], {});\n",
              "          if (!dataTable) return;\n",
              "\n",
              "          const docLinkHtml = 'Like what you see? Visit the ' +\n",
              "            '<a target=\"_blank\" href=https://colab.research.google.com/notebooks/data_table.ipynb>data table notebook</a>'\n",
              "            + ' to learn more about interactive tables.';\n",
              "          element.innerHTML = '';\n",
              "          dataTable['output_type'] = 'display_data';\n",
              "          await google.colab.output.renderOutput(dataTable, element);\n",
              "          const docLink = document.createElement('div');\n",
              "          docLink.innerHTML = docLinkHtml;\n",
              "          element.appendChild(docLink);\n",
              "        }\n",
              "      </script>\n",
              "    </div>\n",
              "  </div>\n",
              "  "
            ]
          },
          "metadata": {},
          "execution_count": 55
        }
      ]
    },
    {
      "cell_type": "code",
      "source": [
        "#plot a heatmap to see the correlaton between the columns\n",
        "cor_mat=df4.corr()\n",
        "fig = plt.figure(figsize=(15,7))\n",
        "sns.heatmap(cor_mat,annot=True)"
      ],
      "metadata": {
        "colab": {
          "base_uri": "https://localhost:8080/",
          "height": 449
        },
        "id": "013uXcgw1k1G",
        "outputId": "8a2c99cf-639b-40f6-e63c-0d9d0fdb8501"
      },
      "execution_count": 56,
      "outputs": [
        {
          "output_type": "execute_result",
          "data": {
            "text/plain": [
              "<AxesSubplot:>"
            ]
          },
          "metadata": {},
          "execution_count": 56
        },
        {
          "output_type": "display_data",
          "data": {
            "text/plain": [
              "<Figure size 1080x504 with 2 Axes>"
            ],
            "image/png": "[encoded data removed]"
          },
          "metadata": {
            "needs_background": "light"
          }
        }
      ]
    },
    {
      "cell_type": "code",
      "source": [],
      "metadata": {
        "id": "JkG9r2741kwy"
      },
      "execution_count": 56,
      "outputs": []
    },
    {
      "cell_type": "markdown",
      "source": [
        "##### 1. Why did you pick the specific chart?"
      ],
      "metadata": {
        "id": "UV0SzAkaZNRQ"
      }
    },
    {
      "cell_type": "markdown",
      "source": [
        "as we wanted to see the correlation of numeric data we used heat map\n",
        "\n",
        "Clearly, we saw that reviews and installs are more correlated and the value is 0.42. It is much more obvious that a higher number of instals has a higher number of reviews."
      ],
      "metadata": {
        "id": "DVPuT8LYZNRQ"
      }
    },
    {
      "cell_type": "markdown",
      "source": [
        "##### 2. What is/are the insight(s) found from the chart?"
      ],
      "metadata": {
        "id": "YPEH6qLeZNRQ"
      }
    },
    {
      "cell_type": "markdown",
      "source": [
        "\n",
        "There is a negative correlation between price and instal apps, with the price of the app influencing the number of installation of the app."
      ],
      "metadata": {
        "id": "bfSqtnDqZNRR"
      }
    },
    {
      "cell_type": "markdown",
      "source": [
        "## **5. Solution to Business Objective**"
      ],
      "metadata": {
        "id": "JcMwzZxoAimU"
      }
    },
    {
      "cell_type": "markdown",
      "source": [
        "#### What do you suggest the client to achieve Business Objective ? \n",
        "Explain Briefly."
      ],
      "metadata": {
        "id": "8G2x9gOozGDZ"
      }
    },
    {
      "cell_type": "markdown",
      "source": [
        "*   **People prefer to download app which consumes less storage space so app should be smaller in size and post intallations its storage consumption should be low, along with that it should be available for all age group so area of target audience will be more and hence downloads will increase as well.**\n",
        "\n",
        "*   **We are able to extract that game accounts for 23.97% of all of them, where as family and sports account for 8.75% and 6.80%respectively, which means most of catagory people prefered is game,family and sports so we should focus more on this catagory.**\n",
        "\n",
        "*   **Also in family the most favourite category is entertainment if we prefer to design an app which is related to entertainment it is more likely to be downloaded.**\n",
        "\n",
        "*    **Similarly in gaming catagory for which action games are mostly prefered by people to play.**\n",
        "\n",
        "*   **While designing the application we should try make it compitable with the latest android version.**\n"
      ],
      "metadata": {
        "id": "pASKb0qOza21"
      }
    },
    {
      "cell_type": "markdown",
      "source": [
        "# **Conclusion**"
      ],
      "metadata": {
        "id": "gCX9965dhzqZ"
      }
    },
    {
      "cell_type": "markdown",
      "source": [
        "\n",
        "\n",
        "In this project of analysing play store applications, we have worked on several parameters and got some actionable insights that would help any organisation to do well in the Android market.\n",
        "\n",
        "By doing this project, with the help of above analysis we understand that data has many insights which are key as per bussiness point of view.\n",
        "\n",
        "\n",
        "\n",
        "\n",
        "\n",
        "\n",
        "\n",
        "\n"
      ],
      "metadata": {
        "id": "Fjb1IsQkh3yE"
      }
    },
    {
      "cell_type": "markdown",
      "source": [
        "### ***Hurrah! You have successfully completed your EDA Capstone Project !!!***"
      ],
      "metadata": {
        "id": "gIfDvo9L0UH2"
      }
    }
  ]
}